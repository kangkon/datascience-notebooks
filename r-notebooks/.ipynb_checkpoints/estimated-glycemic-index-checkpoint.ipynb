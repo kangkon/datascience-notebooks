{
 "cells": [
  {
   "cell_type": "markdown",
   "metadata": {},
   "source": [
    "## Calculation of estimated Glycemic Index (Goni et al., Gandfield et al.)\n",
    "\n",
    "### Dependencies\n",
    "- Tidyverse - dplyr, tidyr, ggplot2 - `install.packages('tidyverse', dependencies = TRUE)`\n",
    "- viridis - `install.packages('viridis', dependencies = TRUE)`\n",
    "- hbrthemes - `install.packages('hbrthemes', dependencies = TRUE)`\n",
    "- mosaic - `install.packages('mosaic', dependencies = TRUE)`\n",
    "\n",
    "First Start with Importing start hydrolysis data from a CSV file"
   ]
  },
  {
   "cell_type": "code",
   "execution_count": 202,
   "metadata": {},
   "outputs": [],
   "source": [
    "hydrolysis_data = read.csv(\"../datasets/experimental/glycaemic-index-karabee-joha.csv\");"
   ]
  },
  {
   "cell_type": "code",
   "execution_count": 203,
   "metadata": {},
   "outputs": [
    {
     "data": {
      "text/html": [
       "<table>\n",
       "<caption>A data.frame: 35 × 3</caption>\n",
       "<thead>\n",
       "\t<tr><th scope=col>time</th><th scope=col>sample</th><th scope=col>starch_release</th></tr>\n",
       "\t<tr><th scope=col>&lt;int&gt;</th><th scope=col>&lt;fct&gt;</th><th scope=col>&lt;dbl&gt;</th></tr>\n",
       "</thead>\n",
       "<tbody>\n",
       "\t<tr><td>  0</td><td>Bread              </td><td> 0.00</td></tr>\n",
       "\t<tr><td> 30</td><td>Bread              </td><td>57.58</td></tr>\n",
       "\t<tr><td> 60</td><td>Bread              </td><td>75.65</td></tr>\n",
       "\t<tr><td> 90</td><td>Bread              </td><td>80.14</td></tr>\n",
       "\t<tr><td>120</td><td>Bread              </td><td>81.63</td></tr>\n",
       "\t<tr><td>150</td><td>Bread              </td><td>82.54</td></tr>\n",
       "\t<tr><td>180</td><td>Bread              </td><td>82.54</td></tr>\n",
       "\t<tr><td>  0</td><td>Kon joha           </td><td> 0.00</td></tr>\n",
       "\t<tr><td> 30</td><td>Kon joha           </td><td>44.25</td></tr>\n",
       "\t<tr><td> 60</td><td>Kon joha           </td><td>50.74</td></tr>\n",
       "\t<tr><td> 90</td><td>Kon joha           </td><td>54.89</td></tr>\n",
       "\t<tr><td>120</td><td>Kon joha           </td><td>56.36</td></tr>\n",
       "\t<tr><td>150</td><td>Kon joha           </td><td>56.36</td></tr>\n",
       "\t<tr><td>180</td><td>Kon joha           </td><td>56.36</td></tr>\n",
       "\t<tr><td>  0</td><td>Keteki Joha        </td><td> 0.00</td></tr>\n",
       "\t<tr><td> 30</td><td>Keteki Joha        </td><td>38.50</td></tr>\n",
       "\t<tr><td> 60</td><td>Keteki Joha        </td><td>46.67</td></tr>\n",
       "\t<tr><td> 90</td><td>Keteki Joha        </td><td>48.80</td></tr>\n",
       "\t<tr><td>120</td><td>Keteki Joha        </td><td>50.49</td></tr>\n",
       "\t<tr><td>150</td><td>Keteki Joha        </td><td>50.49</td></tr>\n",
       "\t<tr><td>180</td><td>Keteki Joha        </td><td>50.49</td></tr>\n",
       "\t<tr><td>  0</td><td>Maniki modhuri joha</td><td> 0.00</td></tr>\n",
       "\t<tr><td> 30</td><td>Maniki modhuri joha</td><td>36.30</td></tr>\n",
       "\t<tr><td> 60</td><td>Maniki modhuri joha</td><td>46.30</td></tr>\n",
       "\t<tr><td> 90</td><td>Maniki modhuri joha</td><td>49.05</td></tr>\n",
       "\t<tr><td>120</td><td>Maniki modhuri joha</td><td>50.02</td></tr>\n",
       "\t<tr><td>150</td><td>Maniki modhuri joha</td><td>50.02</td></tr>\n",
       "\t<tr><td>180</td><td>Maniki modhuri joha</td><td>50.02</td></tr>\n",
       "\t<tr><td>  0</td><td>Kola joha          </td><td> 0.00</td></tr>\n",
       "\t<tr><td> 30</td><td>Kola joha          </td><td>35.98</td></tr>\n",
       "\t<tr><td> 60</td><td>Kola joha          </td><td>45.59</td></tr>\n",
       "\t<tr><td> 90</td><td>Kola joha          </td><td>48.16</td></tr>\n",
       "\t<tr><td>120</td><td>Kola joha          </td><td>48.84</td></tr>\n",
       "\t<tr><td>150</td><td>Kola joha          </td><td>48.84</td></tr>\n",
       "\t<tr><td>180</td><td>Kola joha          </td><td>48.84</td></tr>\n",
       "</tbody>\n",
       "</table>\n"
      ],
      "text/latex": [
       "A data.frame: 35 × 3\n",
       "\\begin{tabular}{lll}\n",
       " time & sample & starch\\_release\\\\\n",
       " <int> & <fct> & <dbl>\\\\\n",
       "\\hline\n",
       "\t   0 & Bread               &  0.00\\\\\n",
       "\t  30 & Bread               & 57.58\\\\\n",
       "\t  60 & Bread               & 75.65\\\\\n",
       "\t  90 & Bread               & 80.14\\\\\n",
       "\t 120 & Bread               & 81.63\\\\\n",
       "\t 150 & Bread               & 82.54\\\\\n",
       "\t 180 & Bread               & 82.54\\\\\n",
       "\t   0 & Kon joha            &  0.00\\\\\n",
       "\t  30 & Kon joha            & 44.25\\\\\n",
       "\t  60 & Kon joha            & 50.74\\\\\n",
       "\t  90 & Kon joha            & 54.89\\\\\n",
       "\t 120 & Kon joha            & 56.36\\\\\n",
       "\t 150 & Kon joha            & 56.36\\\\\n",
       "\t 180 & Kon joha            & 56.36\\\\\n",
       "\t   0 & Keteki Joha         &  0.00\\\\\n",
       "\t  30 & Keteki Joha         & 38.50\\\\\n",
       "\t  60 & Keteki Joha         & 46.67\\\\\n",
       "\t  90 & Keteki Joha         & 48.80\\\\\n",
       "\t 120 & Keteki Joha         & 50.49\\\\\n",
       "\t 150 & Keteki Joha         & 50.49\\\\\n",
       "\t 180 & Keteki Joha         & 50.49\\\\\n",
       "\t   0 & Maniki modhuri joha &  0.00\\\\\n",
       "\t  30 & Maniki modhuri joha & 36.30\\\\\n",
       "\t  60 & Maniki modhuri joha & 46.30\\\\\n",
       "\t  90 & Maniki modhuri joha & 49.05\\\\\n",
       "\t 120 & Maniki modhuri joha & 50.02\\\\\n",
       "\t 150 & Maniki modhuri joha & 50.02\\\\\n",
       "\t 180 & Maniki modhuri joha & 50.02\\\\\n",
       "\t   0 & Kola joha           &  0.00\\\\\n",
       "\t  30 & Kola joha           & 35.98\\\\\n",
       "\t  60 & Kola joha           & 45.59\\\\\n",
       "\t  90 & Kola joha           & 48.16\\\\\n",
       "\t 120 & Kola joha           & 48.84\\\\\n",
       "\t 150 & Kola joha           & 48.84\\\\\n",
       "\t 180 & Kola joha           & 48.84\\\\\n",
       "\\end{tabular}\n"
      ],
      "text/markdown": [
       "\n",
       "A data.frame: 35 × 3\n",
       "\n",
       "| time &lt;int&gt; | sample &lt;fct&gt; | starch_release &lt;dbl&gt; |\n",
       "|---|---|---|\n",
       "|   0 | Bread               |  0.00 |\n",
       "|  30 | Bread               | 57.58 |\n",
       "|  60 | Bread               | 75.65 |\n",
       "|  90 | Bread               | 80.14 |\n",
       "| 120 | Bread               | 81.63 |\n",
       "| 150 | Bread               | 82.54 |\n",
       "| 180 | Bread               | 82.54 |\n",
       "|   0 | Kon joha            |  0.00 |\n",
       "|  30 | Kon joha            | 44.25 |\n",
       "|  60 | Kon joha            | 50.74 |\n",
       "|  90 | Kon joha            | 54.89 |\n",
       "| 120 | Kon joha            | 56.36 |\n",
       "| 150 | Kon joha            | 56.36 |\n",
       "| 180 | Kon joha            | 56.36 |\n",
       "|   0 | Keteki Joha         |  0.00 |\n",
       "|  30 | Keteki Joha         | 38.50 |\n",
       "|  60 | Keteki Joha         | 46.67 |\n",
       "|  90 | Keteki Joha         | 48.80 |\n",
       "| 120 | Keteki Joha         | 50.49 |\n",
       "| 150 | Keteki Joha         | 50.49 |\n",
       "| 180 | Keteki Joha         | 50.49 |\n",
       "|   0 | Maniki modhuri joha |  0.00 |\n",
       "|  30 | Maniki modhuri joha | 36.30 |\n",
       "|  60 | Maniki modhuri joha | 46.30 |\n",
       "|  90 | Maniki modhuri joha | 49.05 |\n",
       "| 120 | Maniki modhuri joha | 50.02 |\n",
       "| 150 | Maniki modhuri joha | 50.02 |\n",
       "| 180 | Maniki modhuri joha | 50.02 |\n",
       "|   0 | Kola joha           |  0.00 |\n",
       "|  30 | Kola joha           | 35.98 |\n",
       "|  60 | Kola joha           | 45.59 |\n",
       "|  90 | Kola joha           | 48.16 |\n",
       "| 120 | Kola joha           | 48.84 |\n",
       "| 150 | Kola joha           | 48.84 |\n",
       "| 180 | Kola joha           | 48.84 |\n",
       "\n"
      ],
      "text/plain": [
       "   time sample              starch_release\n",
       "1    0  Bread                0.00         \n",
       "2   30  Bread               57.58         \n",
       "3   60  Bread               75.65         \n",
       "4   90  Bread               80.14         \n",
       "5  120  Bread               81.63         \n",
       "6  150  Bread               82.54         \n",
       "7  180  Bread               82.54         \n",
       "8    0  Kon joha             0.00         \n",
       "9   30  Kon joha            44.25         \n",
       "10  60  Kon joha            50.74         \n",
       "11  90  Kon joha            54.89         \n",
       "12 120  Kon joha            56.36         \n",
       "13 150  Kon joha            56.36         \n",
       "14 180  Kon joha            56.36         \n",
       "15   0  Keteki Joha          0.00         \n",
       "16  30  Keteki Joha         38.50         \n",
       "17  60  Keteki Joha         46.67         \n",
       "18  90  Keteki Joha         48.80         \n",
       "19 120  Keteki Joha         50.49         \n",
       "20 150  Keteki Joha         50.49         \n",
       "21 180  Keteki Joha         50.49         \n",
       "22   0  Maniki modhuri joha  0.00         \n",
       "23  30  Maniki modhuri joha 36.30         \n",
       "24  60  Maniki modhuri joha 46.30         \n",
       "25  90  Maniki modhuri joha 49.05         \n",
       "26 120  Maniki modhuri joha 50.02         \n",
       "27 150  Maniki modhuri joha 50.02         \n",
       "28 180  Maniki modhuri joha 50.02         \n",
       "29   0  Kola joha            0.00         \n",
       "30  30  Kola joha           35.98         \n",
       "31  60  Kola joha           45.59         \n",
       "32  90  Kola joha           48.16         \n",
       "33 120  Kola joha           48.84         \n",
       "34 150  Kola joha           48.84         \n",
       "35 180  Kola joha           48.84         "
      ]
     },
     "metadata": {},
     "output_type": "display_data"
    }
   ],
   "source": [
    "hydrolysis_data"
   ]
  },
  {
   "cell_type": "markdown",
   "metadata": {},
   "source": [
    "The file contains starch hydrolysis % over time in the experiment of two rice cultivars and bread which will be used as reference food\n",
    "\n",
    "Following code will display summary of data"
   ]
  },
  {
   "cell_type": "code",
   "execution_count": 204,
   "metadata": {},
   "outputs": [
    {
     "data": {
      "text/plain": [
       "      time                     sample  starch_release \n",
       " Min.   :  0   Bread              :7   Min.   : 0.00  \n",
       " 1st Qu.: 30   Keteki Joha        :7   1st Qu.:44.92  \n",
       " Median : 90   Kola joha          :7   Median :49.05  \n",
       " Mean   : 90   Kon joha           :7   Mean   :46.36  \n",
       " 3rd Qu.:150   Maniki modhuri joha:7   3rd Qu.:55.62  \n",
       " Max.   :180                           Max.   :82.54  "
      ]
     },
     "metadata": {},
     "output_type": "display_data"
    }
   ],
   "source": [
    "summary(hydrolysis_data)"
   ]
  },
  {
   "cell_type": "markdown",
   "metadata": {},
   "source": [
    "Lets plot the data for instant visualisation using GGPLOT2"
   ]
  },
  {
   "cell_type": "code",
   "execution_count": 246,
   "metadata": {},
   "outputs": [
    {
     "data": {
      "image/png": "[encoded data removed]",
      "text/plain": [
       "plot without title"
      ]
     },
     "metadata": {
      "image/png": {
       "height": 420,
       "width": 420
      },
      "text/plain": {
       "height": 420,
       "width": 420
      }
     },
     "output_type": "display_data"
    }
   ],
   "source": [
    "library('ggplot2')\n",
    "hydrolysis_plot = ggplot(hydrolysis_data, aes(x=time, y=starch_release)) + \n",
    "  geom_line(size=1, aes(colour =sample)) +\n",
    "  geom_point(aes(shape = sample, size=4)) +\n",
    "#  geom_point(aes(shape = sample, size=time)) + # for marker size scale over time \n",
    "  theme_bw() +\n",
    "theme(text = element_text(size=20)) \n",
    "\n",
    "hydrolysis_plot"
   ]
  },
  {
   "cell_type": "markdown",
   "metadata": {},
   "source": [
    "following plot the hydrolysis curves in Area plot\n",
    "\n",
    "**Viridis** library will be used for loading responsive color pelletes\n",
    "\n",
    "**hrbrthemes** library will be used for applying responsive themes to ggplot2"
   ]
  },
  {
   "cell_type": "code",
   "execution_count": 206,
   "metadata": {},
   "outputs": [
    {
     "name": "stderr",
     "output_type": "stream",
     "text": [
      "Warning message in grid.Call(C_textBounds, as.graphicsAnnot(x$label), x$x, x$y, :\n",
      "\"font family not found in Windows font database\"\n",
      "Warning message in grid.Call(C_textBounds, as.graphicsAnnot(x$label), x$x, x$y, :\n",
      "\"font family not found in Windows font database\"\n",
      "Warning message in grid.Call(C_textBounds, as.graphicsAnnot(x$label), x$x, x$y, :\n",
      "\"font family not found in Windows font database\"\n",
      "Warning message in grid.Call(C_textBounds, as.graphicsAnnot(x$label), x$x, x$y, :\n",
      "\"font family not found in Windows font database\"\n",
      "Warning message in grid.Call(C_textBounds, as.graphicsAnnot(x$label), x$x, x$y, :\n",
      "\"font family not found in Windows font database\"\n",
      "Warning message in grid.Call(C_textBounds, as.graphicsAnnot(x$label), x$x, x$y, :\n",
      "\"font family not found in Windows font database\"\n",
      "Warning message in grid.Call(C_textBounds, as.graphicsAnnot(x$label), x$x, x$y, :\n",
      "\"font family not found in Windows font database\"\n",
      "Warning message in grid.Call(C_textBounds, as.graphicsAnnot(x$label), x$x, x$y, :\n",
      "\"font family not found in Windows font database\"\n",
      "Warning message in grid.Call.graphics(C_text, as.graphicsAnnot(x$label), x$x, x$y, :\n",
      "\"font family not found in Windows font database\"\n",
      "Warning message in grid.Call(C_textBounds, as.graphicsAnnot(x$label), x$x, x$y, :\n",
      "\"font family not found in Windows font database\"\n",
      "Warning message in grid.Call(C_textBounds, as.graphicsAnnot(x$label), x$x, x$y, :\n",
      "\"font family not found in Windows font database\"\n"
     ]
    },
    {
     "data": {
      "image/png": "[encoded data removed]",
      "text/plain": [
       "plot without title"
      ]
     },
     "metadata": {
      "image/png": {
       "height": 420,
       "width": 420
      },
      "text/plain": {
       "height": 420,
       "width": 420
      }
     },
     "output_type": "display_data"
    }
   ],
   "source": [
    "library(viridis)\n",
    "library(hrbrthemes)\n",
    "\n",
    "ggplot(hydrolysis_data, aes(x=time, y=starch_release, fill=sample)) + \n",
    "  geom_area(alpha=0.6 , size=.5, colour=\"white\") +\n",
    "  scale_fill_viridis(discrete = T) +\n",
    "  theme_ipsum() "
   ]
  },
  {
   "cell_type": "markdown",
   "metadata": {},
   "source": [
    "Verify the structure of hydrolysis data"
   ]
  },
  {
   "cell_type": "code",
   "execution_count": 207,
   "metadata": {},
   "outputs": [
    {
     "name": "stdout",
     "output_type": "stream",
     "text": [
      "'data.frame':\t35 obs. of  3 variables:\n",
      " $ time          : int  0 30 60 90 120 150 180 0 30 60 ...\n",
      " $ sample        : Factor w/ 5 levels \"Bread\",\"Keteki Joha\",..: 1 1 1 1 1 1 1 4 4 4 ...\n",
      " $ starch_release: num  0 57.6 75.7 80.1 81.6 ...\n"
     ]
    }
   ],
   "source": [
    "str(hydrolysis_data)"
   ]
  },
  {
   "cell_type": "markdown",
   "metadata": {},
   "source": [
    "### Calculate the Log Values using First order kinetic model"
   ]
  },
  {
   "cell_type": "code",
   "execution_count": 208,
   "metadata": {},
   "outputs": [],
   "source": [
    "library(dplyr)\n",
    "hydrolysis_data_log = hydrolysis_data %>% \n",
    "  group_by(sample) %>% \n",
    "  mutate(log_fit = -log(1 - starch_release/max(starch_release))) %>%\n",
    "  filter(is.finite(log_fit) == TRUE) %>%\n",
    "  select(sample, time, log_fit)"
   ]
  },
  {
   "cell_type": "code",
   "execution_count": 209,
   "metadata": {},
   "outputs": [
    {
     "data": {
      "text/html": [
       "<table>\n",
       "<caption>A grouped_df: 21 × 3</caption>\n",
       "<thead>\n",
       "\t<tr><th scope=col>sample</th><th scope=col>time</th><th scope=col>log_fit</th></tr>\n",
       "\t<tr><th scope=col>&lt;fct&gt;</th><th scope=col>&lt;int&gt;</th><th scope=col>&lt;dbl&gt;</th></tr>\n",
       "</thead>\n",
       "<tbody>\n",
       "\t<tr><td>Bread              </td><td>  0</td><td>0.000000</td></tr>\n",
       "\t<tr><td>Bread              </td><td> 30</td><td>1.196008</td></tr>\n",
       "\t<tr><td>Bread              </td><td> 60</td><td>2.483212</td></tr>\n",
       "\t<tr><td>Bread              </td><td> 90</td><td>3.537814</td></tr>\n",
       "\t<tr><td>Bread              </td><td>120</td><td>4.507594</td></tr>\n",
       "\t<tr><td>Kon joha           </td><td>  0</td><td>0.000000</td></tr>\n",
       "\t<tr><td>Kon joha           </td><td> 30</td><td>1.537728</td></tr>\n",
       "\t<tr><td>Kon joha           </td><td> 60</td><td>2.305428</td></tr>\n",
       "\t<tr><td>Kon joha           </td><td> 90</td><td>3.646497</td></tr>\n",
       "\t<tr><td>Keteki Joha        </td><td>  0</td><td>0.000000</td></tr>\n",
       "\t<tr><td>Keteki Joha        </td><td> 30</td><td>1.437702</td></tr>\n",
       "\t<tr><td>Keteki Joha        </td><td> 60</td><td>2.581525</td></tr>\n",
       "\t<tr><td>Keteki Joha        </td><td> 90</td><td>3.397047</td></tr>\n",
       "\t<tr><td>Maniki modhuri joha</td><td>  0</td><td>0.000000</td></tr>\n",
       "\t<tr><td>Maniki modhuri joha</td><td> 30</td><td>1.293568</td></tr>\n",
       "\t<tr><td>Maniki modhuri joha</td><td> 60</td><td>2.598699</td></tr>\n",
       "\t<tr><td>Maniki modhuri joha</td><td> 90</td><td>3.942882</td></tr>\n",
       "\t<tr><td>Kola joha          </td><td>  0</td><td>0.000000</td></tr>\n",
       "\t<tr><td>Kola joha          </td><td> 30</td><td>1.334428</td></tr>\n",
       "\t<tr><td>Kola joha          </td><td> 60</td><td>2.709895</td></tr>\n",
       "\t<tr><td>Kola joha          </td><td> 90</td><td>4.274212</td></tr>\n",
       "</tbody>\n",
       "</table>\n"
      ],
      "text/latex": [
       "A grouped\\_df: 21 × 3\n",
       "\\begin{tabular}{lll}\n",
       " sample & time & log\\_fit\\\\\n",
       " <fct> & <int> & <dbl>\\\\\n",
       "\\hline\n",
       "\t Bread               &   0 & 0.000000\\\\\n",
       "\t Bread               &  30 & 1.196008\\\\\n",
       "\t Bread               &  60 & 2.483212\\\\\n",
       "\t Bread               &  90 & 3.537814\\\\\n",
       "\t Bread               & 120 & 4.507594\\\\\n",
       "\t Kon joha            &   0 & 0.000000\\\\\n",
       "\t Kon joha            &  30 & 1.537728\\\\\n",
       "\t Kon joha            &  60 & 2.305428\\\\\n",
       "\t Kon joha            &  90 & 3.646497\\\\\n",
       "\t Keteki Joha         &   0 & 0.000000\\\\\n",
       "\t Keteki Joha         &  30 & 1.437702\\\\\n",
       "\t Keteki Joha         &  60 & 2.581525\\\\\n",
       "\t Keteki Joha         &  90 & 3.397047\\\\\n",
       "\t Maniki modhuri joha &   0 & 0.000000\\\\\n",
       "\t Maniki modhuri joha &  30 & 1.293568\\\\\n",
       "\t Maniki modhuri joha &  60 & 2.598699\\\\\n",
       "\t Maniki modhuri joha &  90 & 3.942882\\\\\n",
       "\t Kola joha           &   0 & 0.000000\\\\\n",
       "\t Kola joha           &  30 & 1.334428\\\\\n",
       "\t Kola joha           &  60 & 2.709895\\\\\n",
       "\t Kola joha           &  90 & 4.274212\\\\\n",
       "\\end{tabular}\n"
      ],
      "text/markdown": [
       "\n",
       "A grouped_df: 21 × 3\n",
       "\n",
       "| sample &lt;fct&gt; | time &lt;int&gt; | log_fit &lt;dbl&gt; |\n",
       "|---|---|---|\n",
       "| Bread               |   0 | 0.000000 |\n",
       "| Bread               |  30 | 1.196008 |\n",
       "| Bread               |  60 | 2.483212 |\n",
       "| Bread               |  90 | 3.537814 |\n",
       "| Bread               | 120 | 4.507594 |\n",
       "| Kon joha            |   0 | 0.000000 |\n",
       "| Kon joha            |  30 | 1.537728 |\n",
       "| Kon joha            |  60 | 2.305428 |\n",
       "| Kon joha            |  90 | 3.646497 |\n",
       "| Keteki Joha         |   0 | 0.000000 |\n",
       "| Keteki Joha         |  30 | 1.437702 |\n",
       "| Keteki Joha         |  60 | 2.581525 |\n",
       "| Keteki Joha         |  90 | 3.397047 |\n",
       "| Maniki modhuri joha |   0 | 0.000000 |\n",
       "| Maniki modhuri joha |  30 | 1.293568 |\n",
       "| Maniki modhuri joha |  60 | 2.598699 |\n",
       "| Maniki modhuri joha |  90 | 3.942882 |\n",
       "| Kola joha           |   0 | 0.000000 |\n",
       "| Kola joha           |  30 | 1.334428 |\n",
       "| Kola joha           |  60 | 2.709895 |\n",
       "| Kola joha           |  90 | 4.274212 |\n",
       "\n"
      ],
      "text/plain": [
       "   sample              time log_fit \n",
       "1  Bread                 0  0.000000\n",
       "2  Bread                30  1.196008\n",
       "3  Bread                60  2.483212\n",
       "4  Bread                90  3.537814\n",
       "5  Bread               120  4.507594\n",
       "6  Kon joha              0  0.000000\n",
       "7  Kon joha             30  1.537728\n",
       "8  Kon joha             60  2.305428\n",
       "9  Kon joha             90  3.646497\n",
       "10 Keteki Joha           0  0.000000\n",
       "11 Keteki Joha          30  1.437702\n",
       "12 Keteki Joha          60  2.581525\n",
       "13 Keteki Joha          90  3.397047\n",
       "14 Maniki modhuri joha   0  0.000000\n",
       "15 Maniki modhuri joha  30  1.293568\n",
       "16 Maniki modhuri joha  60  2.598699\n",
       "17 Maniki modhuri joha  90  3.942882\n",
       "18 Kola joha             0  0.000000\n",
       "19 Kola joha            30  1.334428\n",
       "20 Kola joha            60  2.709895\n",
       "21 Kola joha            90  4.274212"
      ]
     },
     "metadata": {},
     "output_type": "display_data"
    }
   ],
   "source": [
    "hydrolysis_data_log"
   ]
  },
  {
   "cell_type": "markdown",
   "metadata": {},
   "source": [
    "### Plot the kinetic models"
   ]
  },
  {
   "cell_type": "code",
   "execution_count": 210,
   "metadata": {},
   "outputs": [
    {
     "name": "stderr",
     "output_type": "stream",
     "text": [
      "`geom_smooth()` using formula 'y ~ x'\n",
      "\n"
     ]
    },
    {
     "data": {
      "image/png": "[encoded data removed]",
      "text/plain": [
       "plot without title"
      ]
     },
     "metadata": {
      "image/png": {
       "height": 420,
       "width": 420
      },
      "text/plain": {
       "height": 420,
       "width": 420
      }
     },
     "output_type": "display_data"
    }
   ],
   "source": [
    "ggplot(hydrolysis_data_log, aes(x=time, y=log_fit, color=sample)) + \n",
    "  geom_point(aes(shape = sample)) +\n",
    "  stat_smooth(method = \"lm\") +\n",
    "  facet_wrap(~sample) + # Separate plots\n",
    "  theme_bw()"
   ]
  },
  {
   "cell_type": "markdown",
   "metadata": {},
   "source": [
    "### Get the starch equibrilium % and sequibrilium time in different table"
   ]
  },
  {
   "cell_type": "code",
   "execution_count": 211,
   "metadata": {},
   "outputs": [],
   "source": [
    "starch_equilibrium = hydrolysis_data %>% group_by(sample) %>% slice(which.max(starch_release))"
   ]
  },
  {
   "cell_type": "code",
   "execution_count": 212,
   "metadata": {},
   "outputs": [
    {
     "data": {
      "text/html": [
       "<table>\n",
       "<caption>A grouped_df: 5 × 3</caption>\n",
       "<thead>\n",
       "\t<tr><th scope=col>time</th><th scope=col>sample</th><th scope=col>starch_release</th></tr>\n",
       "\t<tr><th scope=col>&lt;int&gt;</th><th scope=col>&lt;fct&gt;</th><th scope=col>&lt;dbl&gt;</th></tr>\n",
       "</thead>\n",
       "<tbody>\n",
       "\t<tr><td>150</td><td>Bread              </td><td>82.54</td></tr>\n",
       "\t<tr><td>120</td><td>Keteki Joha        </td><td>50.49</td></tr>\n",
       "\t<tr><td>120</td><td>Kola joha          </td><td>48.84</td></tr>\n",
       "\t<tr><td>120</td><td>Kon joha           </td><td>56.36</td></tr>\n",
       "\t<tr><td>120</td><td>Maniki modhuri joha</td><td>50.02</td></tr>\n",
       "</tbody>\n",
       "</table>\n"
      ],
      "text/latex": [
       "A grouped\\_df: 5 × 3\n",
       "\\begin{tabular}{lll}\n",
       " time & sample & starch\\_release\\\\\n",
       " <int> & <fct> & <dbl>\\\\\n",
       "\\hline\n",
       "\t 150 & Bread               & 82.54\\\\\n",
       "\t 120 & Keteki Joha         & 50.49\\\\\n",
       "\t 120 & Kola joha           & 48.84\\\\\n",
       "\t 120 & Kon joha            & 56.36\\\\\n",
       "\t 120 & Maniki modhuri joha & 50.02\\\\\n",
       "\\end{tabular}\n"
      ],
      "text/markdown": [
       "\n",
       "A grouped_df: 5 × 3\n",
       "\n",
       "| time &lt;int&gt; | sample &lt;fct&gt; | starch_release &lt;dbl&gt; |\n",
       "|---|---|---|\n",
       "| 150 | Bread               | 82.54 |\n",
       "| 120 | Keteki Joha         | 50.49 |\n",
       "| 120 | Kola joha           | 48.84 |\n",
       "| 120 | Kon joha            | 56.36 |\n",
       "| 120 | Maniki modhuri joha | 50.02 |\n",
       "\n"
      ],
      "text/plain": [
       "  time sample              starch_release\n",
       "1 150  Bread               82.54         \n",
       "2 120  Keteki Joha         50.49         \n",
       "3 120  Kola joha           48.84         \n",
       "4 120  Kon joha            56.36         \n",
       "5 120  Maniki modhuri joha 50.02         "
      ]
     },
     "metadata": {},
     "output_type": "display_data"
    }
   ],
   "source": [
    "starch_equilibrium"
   ]
  },
  {
   "cell_type": "markdown",
   "metadata": {},
   "source": [
    "## Generate linear model list of starch hydrolysis kinetics in key-value pairs"
   ]
  },
  {
   "cell_type": "code",
   "execution_count": 213,
   "metadata": {},
   "outputs": [],
   "source": [
    "library(tidyr)\n",
    "hydrolys_data_log_spread = hydrolysis_data_log %>% spread(sample, log_fit)"
   ]
  },
  {
   "cell_type": "code",
   "execution_count": 214,
   "metadata": {},
   "outputs": [
    {
     "data": {
      "text/html": [
       "<table>\n",
       "<caption>A tibble: 5 × 6</caption>\n",
       "<thead>\n",
       "\t<tr><th scope=col>time</th><th scope=col>Bread</th><th scope=col>Keteki Joha</th><th scope=col>Kola joha</th><th scope=col>Kon joha</th><th scope=col>Maniki modhuri joha</th></tr>\n",
       "\t<tr><th scope=col>&lt;int&gt;</th><th scope=col>&lt;dbl&gt;</th><th scope=col>&lt;dbl&gt;</th><th scope=col>&lt;dbl&gt;</th><th scope=col>&lt;dbl&gt;</th><th scope=col>&lt;dbl&gt;</th></tr>\n",
       "</thead>\n",
       "<tbody>\n",
       "\t<tr><td>  0</td><td>0.000000</td><td>0.000000</td><td>0.000000</td><td>0.000000</td><td>0.000000</td></tr>\n",
       "\t<tr><td> 30</td><td>1.196008</td><td>1.437702</td><td>1.334428</td><td>1.537728</td><td>1.293568</td></tr>\n",
       "\t<tr><td> 60</td><td>2.483212</td><td>2.581525</td><td>2.709895</td><td>2.305428</td><td>2.598699</td></tr>\n",
       "\t<tr><td> 90</td><td>3.537814</td><td>3.397047</td><td>4.274212</td><td>3.646497</td><td>3.942882</td></tr>\n",
       "\t<tr><td>120</td><td>4.507594</td><td>      NA</td><td>      NA</td><td>      NA</td><td>      NA</td></tr>\n",
       "</tbody>\n",
       "</table>\n"
      ],
      "text/latex": [
       "A tibble: 5 × 6\n",
       "\\begin{tabular}{llllll}\n",
       " time & Bread & Keteki Joha & Kola joha & Kon joha & Maniki modhuri joha\\\\\n",
       " <int> & <dbl> & <dbl> & <dbl> & <dbl> & <dbl>\\\\\n",
       "\\hline\n",
       "\t   0 & 0.000000 & 0.000000 & 0.000000 & 0.000000 & 0.000000\\\\\n",
       "\t  30 & 1.196008 & 1.437702 & 1.334428 & 1.537728 & 1.293568\\\\\n",
       "\t  60 & 2.483212 & 2.581525 & 2.709895 & 2.305428 & 2.598699\\\\\n",
       "\t  90 & 3.537814 & 3.397047 & 4.274212 & 3.646497 & 3.942882\\\\\n",
       "\t 120 & 4.507594 &       NA &       NA &       NA &       NA\\\\\n",
       "\\end{tabular}\n"
      ],
      "text/markdown": [
       "\n",
       "A tibble: 5 × 6\n",
       "\n",
       "| time &lt;int&gt; | Bread &lt;dbl&gt; | Keteki Joha &lt;dbl&gt; | Kola joha &lt;dbl&gt; | Kon joha &lt;dbl&gt; | Maniki modhuri joha &lt;dbl&gt; |\n",
       "|---|---|---|---|---|---|\n",
       "|   0 | 0.000000 | 0.000000 | 0.000000 | 0.000000 | 0.000000 |\n",
       "|  30 | 1.196008 | 1.437702 | 1.334428 | 1.537728 | 1.293568 |\n",
       "|  60 | 2.483212 | 2.581525 | 2.709895 | 2.305428 | 2.598699 |\n",
       "|  90 | 3.537814 | 3.397047 | 4.274212 | 3.646497 | 3.942882 |\n",
       "| 120 | 4.507594 |       NA |       NA |       NA |       NA |\n",
       "\n"
      ],
      "text/plain": [
       "  time Bread    Keteki Joha Kola joha Kon joha Maniki modhuri joha\n",
       "1   0  0.000000 0.000000    0.000000  0.000000 0.000000           \n",
       "2  30  1.196008 1.437702    1.334428  1.537728 1.293568           \n",
       "3  60  2.483212 2.581525    2.709895  2.305428 2.598699           \n",
       "4  90  3.537814 3.397047    4.274212  3.646497 3.942882           \n",
       "5 120  4.507594       NA          NA        NA       NA           "
      ]
     },
     "metadata": {},
     "output_type": "display_data"
    }
   ],
   "source": [
    "hydrolys_data_log_spread"
   ]
  },
  {
   "cell_type": "code",
   "execution_count": 215,
   "metadata": {},
   "outputs": [],
   "source": [
    "fitted_models_list = apply(\n",
    "  hydrolys_data_log_spread[, -1], # ignore first time column\n",
    "  MARGIN = 2, # perform column wise operations\n",
    "  FUN = function(x) {\n",
    "    lm(log_fit ~ time, data.frame(time = hydrolys_data_log_spread$time, log_fit = x))\n",
    "  }\n",
    ")"
   ]
  },
  {
   "cell_type": "code",
   "execution_count": 216,
   "metadata": {},
   "outputs": [
    {
     "data": {
      "text/plain": [
       "$Bread\n",
       "\n",
       "Call:\n",
       "lm(formula = log_fit ~ time, data = data.frame(time = hydrolys_data_log_spread$time, \n",
       "    log_fit = x))\n",
       "\n",
       "Coefficients:\n",
       "(Intercept)         time  \n",
       "    0.07353      0.03786  \n",
       "\n",
       "\n",
       "$`Keteki Joha`\n",
       "\n",
       "Call:\n",
       "lm(formula = log_fit ~ time, data = data.frame(time = hydrolys_data_log_spread$time, \n",
       "    log_fit = x))\n",
       "\n",
       "Coefficients:\n",
       "(Intercept)         time  \n",
       "    0.15382      0.03778  \n",
       "\n",
       "\n",
       "$`Kola joha`\n",
       "\n",
       "Call:\n",
       "lm(formula = log_fit ~ time, data = data.frame(time = hydrolys_data_log_spread$time, \n",
       "    log_fit = x))\n",
       "\n",
       "Coefficients:\n",
       "(Intercept)         time  \n",
       "   -0.05008      0.04733  \n",
       "\n",
       "\n",
       "$`Kon joha`\n",
       "\n",
       "Call:\n",
       "lm(formula = log_fit ~ time, data = data.frame(time = hydrolys_data_log_spread$time, \n",
       "    log_fit = x))\n",
       "\n",
       "Coefficients:\n",
       "(Intercept)         time  \n",
       "    0.11633      0.03902  \n",
       "\n",
       "\n",
       "$`Maniki modhuri joha`\n",
       "\n",
       "Call:\n",
       "lm(formula = log_fit ~ time, data = data.frame(time = hydrolys_data_log_spread$time, \n",
       "    log_fit = x))\n",
       "\n",
       "Coefficients:\n",
       "(Intercept)         time  \n",
       "   -0.01128      0.04378  \n",
       "\n"
      ]
     },
     "metadata": {},
     "output_type": "display_data"
    }
   ],
   "source": [
    "fitted_models_list"
   ]
  },
  {
   "cell_type": "markdown",
   "metadata": {},
   "source": [
    "## Generate Output Table containing time_equilibrium, conc_equilibrium, rates, and intercepts"
   ]
  },
  {
   "cell_type": "code",
   "execution_count": 217,
   "metadata": {},
   "outputs": [],
   "source": [
    "out_table = starch_equilibrium %>% group_by(sample) %>%\n",
    "  mutate(intercept = as.numeric(coef(fitted_models_list[[ sample]])[1])) %>%\n",
    "  mutate(rate = as.numeric(coef(fitted_models_list[[ sample]])[2]))"
   ]
  },
  {
   "cell_type": "code",
   "execution_count": 218,
   "metadata": {},
   "outputs": [
    {
     "data": {
      "text/html": [
       "<table>\n",
       "<caption>A grouped_df: 5 × 5</caption>\n",
       "<thead>\n",
       "\t<tr><th scope=col>time</th><th scope=col>sample</th><th scope=col>starch_release</th><th scope=col>intercept</th><th scope=col>rate</th></tr>\n",
       "\t<tr><th scope=col>&lt;int&gt;</th><th scope=col>&lt;fct&gt;</th><th scope=col>&lt;dbl&gt;</th><th scope=col>&lt;dbl&gt;</th><th scope=col>&lt;dbl&gt;</th></tr>\n",
       "</thead>\n",
       "<tbody>\n",
       "\t<tr><td>150</td><td>Bread              </td><td>82.54</td><td> 0.07352704</td><td>0.03785664</td></tr>\n",
       "\t<tr><td>120</td><td>Keteki Joha        </td><td>50.49</td><td> 0.15382406</td><td>0.03778321</td></tr>\n",
       "\t<tr><td>120</td><td>Kola joha          </td><td>48.84</td><td>-0.05008179</td><td>0.04732701</td></tr>\n",
       "\t<tr><td>120</td><td>Kon joha           </td><td>56.36</td><td> 0.11633460</td><td>0.03902397</td></tr>\n",
       "\t<tr><td>120</td><td>Maniki modhuri joha</td><td>50.02</td><td>-0.01127918</td><td>0.04377926</td></tr>\n",
       "</tbody>\n",
       "</table>\n"
      ],
      "text/latex": [
       "A grouped\\_df: 5 × 5\n",
       "\\begin{tabular}{lllll}\n",
       " time & sample & starch\\_release & intercept & rate\\\\\n",
       " <int> & <fct> & <dbl> & <dbl> & <dbl>\\\\\n",
       "\\hline\n",
       "\t 150 & Bread               & 82.54 &  0.07352704 & 0.03785664\\\\\n",
       "\t 120 & Keteki Joha         & 50.49 &  0.15382406 & 0.03778321\\\\\n",
       "\t 120 & Kola joha           & 48.84 & -0.05008179 & 0.04732701\\\\\n",
       "\t 120 & Kon joha            & 56.36 &  0.11633460 & 0.03902397\\\\\n",
       "\t 120 & Maniki modhuri joha & 50.02 & -0.01127918 & 0.04377926\\\\\n",
       "\\end{tabular}\n"
      ],
      "text/markdown": [
       "\n",
       "A grouped_df: 5 × 5\n",
       "\n",
       "| time &lt;int&gt; | sample &lt;fct&gt; | starch_release &lt;dbl&gt; | intercept &lt;dbl&gt; | rate &lt;dbl&gt; |\n",
       "|---|---|---|---|---|\n",
       "| 150 | Bread               | 82.54 |  0.07352704 | 0.03785664 |\n",
       "| 120 | Keteki Joha         | 50.49 |  0.15382406 | 0.03778321 |\n",
       "| 120 | Kola joha           | 48.84 | -0.05008179 | 0.04732701 |\n",
       "| 120 | Kon joha            | 56.36 |  0.11633460 | 0.03902397 |\n",
       "| 120 | Maniki modhuri joha | 50.02 | -0.01127918 | 0.04377926 |\n",
       "\n"
      ],
      "text/plain": [
       "  time sample              starch_release intercept   rate      \n",
       "1 150  Bread               82.54           0.07352704 0.03785664\n",
       "2 120  Keteki Joha         50.49           0.15382406 0.03778321\n",
       "3 120  Kola joha           48.84          -0.05008179 0.04732701\n",
       "4 120  Kon joha            56.36           0.11633460 0.03902397\n",
       "5 120  Maniki modhuri joha 50.02          -0.01127918 0.04377926"
      ]
     },
     "metadata": {},
     "output_type": "display_data"
    }
   ],
   "source": [
    "out_table"
   ]
  },
  {
   "cell_type": "markdown",
   "metadata": {},
   "source": [
    "## Determine the Calculated Hydrolysis data according to the rate contant deduced"
   ]
  },
  {
   "cell_type": "code",
   "execution_count": 219,
   "metadata": {},
   "outputs": [],
   "source": [
    "library(tidyr)\n",
    "hydrolysis_data_spread = hydrolysis_data %>% spread(sample, starch_release)"
   ]
  },
  {
   "cell_type": "code",
   "execution_count": 220,
   "metadata": {},
   "outputs": [
    {
     "data": {
      "text/html": [
       "<table>\n",
       "<caption>A data.frame: 7 × 6</caption>\n",
       "<thead>\n",
       "\t<tr><th scope=col>time</th><th scope=col>Bread</th><th scope=col>Keteki Joha</th><th scope=col>Kola joha</th><th scope=col>Kon joha</th><th scope=col>Maniki modhuri joha</th></tr>\n",
       "\t<tr><th scope=col>&lt;int&gt;</th><th scope=col>&lt;dbl&gt;</th><th scope=col>&lt;dbl&gt;</th><th scope=col>&lt;dbl&gt;</th><th scope=col>&lt;dbl&gt;</th><th scope=col>&lt;dbl&gt;</th></tr>\n",
       "</thead>\n",
       "<tbody>\n",
       "\t<tr><td>  0</td><td> 0.00</td><td> 0.00</td><td> 0.00</td><td> 0.00</td><td> 0.00</td></tr>\n",
       "\t<tr><td> 30</td><td>57.58</td><td>38.50</td><td>35.98</td><td>44.25</td><td>36.30</td></tr>\n",
       "\t<tr><td> 60</td><td>75.65</td><td>46.67</td><td>45.59</td><td>50.74</td><td>46.30</td></tr>\n",
       "\t<tr><td> 90</td><td>80.14</td><td>48.80</td><td>48.16</td><td>54.89</td><td>49.05</td></tr>\n",
       "\t<tr><td>120</td><td>81.63</td><td>50.49</td><td>48.84</td><td>56.36</td><td>50.02</td></tr>\n",
       "\t<tr><td>150</td><td>82.54</td><td>50.49</td><td>48.84</td><td>56.36</td><td>50.02</td></tr>\n",
       "\t<tr><td>180</td><td>82.54</td><td>50.49</td><td>48.84</td><td>56.36</td><td>50.02</td></tr>\n",
       "</tbody>\n",
       "</table>\n"
      ],
      "text/latex": [
       "A data.frame: 7 × 6\n",
       "\\begin{tabular}{llllll}\n",
       " time & Bread & Keteki Joha & Kola joha & Kon joha & Maniki modhuri joha\\\\\n",
       " <int> & <dbl> & <dbl> & <dbl> & <dbl> & <dbl>\\\\\n",
       "\\hline\n",
       "\t   0 &  0.00 &  0.00 &  0.00 &  0.00 &  0.00\\\\\n",
       "\t  30 & 57.58 & 38.50 & 35.98 & 44.25 & 36.30\\\\\n",
       "\t  60 & 75.65 & 46.67 & 45.59 & 50.74 & 46.30\\\\\n",
       "\t  90 & 80.14 & 48.80 & 48.16 & 54.89 & 49.05\\\\\n",
       "\t 120 & 81.63 & 50.49 & 48.84 & 56.36 & 50.02\\\\\n",
       "\t 150 & 82.54 & 50.49 & 48.84 & 56.36 & 50.02\\\\\n",
       "\t 180 & 82.54 & 50.49 & 48.84 & 56.36 & 50.02\\\\\n",
       "\\end{tabular}\n"
      ],
      "text/markdown": [
       "\n",
       "A data.frame: 7 × 6\n",
       "\n",
       "| time &lt;int&gt; | Bread &lt;dbl&gt; | Keteki Joha &lt;dbl&gt; | Kola joha &lt;dbl&gt; | Kon joha &lt;dbl&gt; | Maniki modhuri joha &lt;dbl&gt; |\n",
       "|---|---|---|---|---|---|\n",
       "|   0 |  0.00 |  0.00 |  0.00 |  0.00 |  0.00 |\n",
       "|  30 | 57.58 | 38.50 | 35.98 | 44.25 | 36.30 |\n",
       "|  60 | 75.65 | 46.67 | 45.59 | 50.74 | 46.30 |\n",
       "|  90 | 80.14 | 48.80 | 48.16 | 54.89 | 49.05 |\n",
       "| 120 | 81.63 | 50.49 | 48.84 | 56.36 | 50.02 |\n",
       "| 150 | 82.54 | 50.49 | 48.84 | 56.36 | 50.02 |\n",
       "| 180 | 82.54 | 50.49 | 48.84 | 56.36 | 50.02 |\n",
       "\n"
      ],
      "text/plain": [
       "  time Bread Keteki Joha Kola joha Kon joha Maniki modhuri joha\n",
       "1   0   0.00  0.00        0.00      0.00     0.00              \n",
       "2  30  57.58 38.50       35.98     44.25    36.30              \n",
       "3  60  75.65 46.67       45.59     50.74    46.30              \n",
       "4  90  80.14 48.80       48.16     54.89    49.05              \n",
       "5 120  81.63 50.49       48.84     56.36    50.02              \n",
       "6 150  82.54 50.49       48.84     56.36    50.02              \n",
       "7 180  82.54 50.49       48.84     56.36    50.02              "
      ]
     },
     "metadata": {},
     "output_type": "display_data"
    }
   ],
   "source": [
    "#original experimental data\n",
    "hydrolysis_data_spread"
   ]
  },
  {
   "cell_type": "markdown",
   "metadata": {},
   "source": [
    "Comparision of Experimental data with predicted data of hydrolysis of **Bread**"
   ]
  },
  {
   "cell_type": "code",
   "execution_count": 221,
   "metadata": {},
   "outputs": [
    {
     "data": {
      "image/png": "[encoded data removed]",
      "text/plain": [
       "plot without title"
      ]
     },
     "metadata": {
      "image/png": {
       "height": 420,
       "width": 420
      },
      "text/plain": {
       "height": 420,
       "width": 420
      }
     },
     "output_type": "display_data"
    }
   ],
   "source": [
    "\n",
    "ggplot(data = hydrolysis_data_spread, aes(x=time)) +\n",
    "  geom_line(aes(y=Bread)) +\n",
    "  geom_line(\n",
    "    aes(y = fo_conc_calc(82.4, 0.040, c(0, 30, 60, 90, 120, 150, 180)), color=\"Predicted\")\n",
    ")"
   ]
  },
  {
   "cell_type": "markdown",
   "metadata": {},
   "source": [
    "## Add predicted log values to hydrolysis_data_log"
   ]
  },
  {
   "cell_type": "code",
   "execution_count": 222,
   "metadata": {},
   "outputs": [],
   "source": [
    "hydrolysis_data_log = hydrolysis_data_log %>% do(modelr::add_predictions(., lm(log_fit ~ time, .)))"
   ]
  },
  {
   "cell_type": "code",
   "execution_count": 223,
   "metadata": {},
   "outputs": [
    {
     "data": {
      "text/html": [
       "<table>\n",
       "<caption>A grouped_df: 21 × 4</caption>\n",
       "<thead>\n",
       "\t<tr><th scope=col>sample</th><th scope=col>time</th><th scope=col>log_fit</th><th scope=col>pred</th></tr>\n",
       "\t<tr><th scope=col>&lt;fct&gt;</th><th scope=col>&lt;int&gt;</th><th scope=col>&lt;dbl&gt;</th><th scope=col>&lt;dbl&gt;</th></tr>\n",
       "</thead>\n",
       "<tbody>\n",
       "\t<tr><td>Bread              </td><td>  0</td><td>0.000000</td><td> 0.07352704</td></tr>\n",
       "\t<tr><td>Bread              </td><td> 30</td><td>1.196008</td><td> 1.20922636</td></tr>\n",
       "\t<tr><td>Bread              </td><td> 60</td><td>2.483212</td><td> 2.34492568</td></tr>\n",
       "\t<tr><td>Bread              </td><td> 90</td><td>3.537814</td><td> 3.48062500</td></tr>\n",
       "\t<tr><td>Bread              </td><td>120</td><td>4.507594</td><td> 4.61632432</td></tr>\n",
       "\t<tr><td>Keteki Joha        </td><td>  0</td><td>0.000000</td><td> 0.15382406</td></tr>\n",
       "\t<tr><td>Keteki Joha        </td><td> 30</td><td>1.437702</td><td> 1.28732035</td></tr>\n",
       "\t<tr><td>Keteki Joha        </td><td> 60</td><td>2.581525</td><td> 2.42081664</td></tr>\n",
       "\t<tr><td>Keteki Joha        </td><td> 90</td><td>3.397047</td><td> 3.55431292</td></tr>\n",
       "\t<tr><td>Kola joha          </td><td>  0</td><td>0.000000</td><td>-0.05008179</td></tr>\n",
       "\t<tr><td>Kola joha          </td><td> 30</td><td>1.334428</td><td> 1.36972852</td></tr>\n",
       "\t<tr><td>Kola joha          </td><td> 60</td><td>2.709895</td><td> 2.78953883</td></tr>\n",
       "\t<tr><td>Kola joha          </td><td> 90</td><td>4.274212</td><td> 4.20934915</td></tr>\n",
       "\t<tr><td>Kon joha           </td><td>  0</td><td>0.000000</td><td> 0.11633460</td></tr>\n",
       "\t<tr><td>Kon joha           </td><td> 30</td><td>1.537728</td><td> 1.28705377</td></tr>\n",
       "\t<tr><td>Kon joha           </td><td> 60</td><td>2.305428</td><td> 2.45777295</td></tr>\n",
       "\t<tr><td>Kon joha           </td><td> 90</td><td>3.646497</td><td> 3.62849212</td></tr>\n",
       "\t<tr><td>Maniki modhuri joha</td><td>  0</td><td>0.000000</td><td>-0.01127918</td></tr>\n",
       "\t<tr><td>Maniki modhuri joha</td><td> 30</td><td>1.293568</td><td> 1.30209856</td></tr>\n",
       "\t<tr><td>Maniki modhuri joha</td><td> 60</td><td>2.598699</td><td> 2.61547629</td></tr>\n",
       "\t<tr><td>Maniki modhuri joha</td><td> 90</td><td>3.942882</td><td> 3.92885403</td></tr>\n",
       "</tbody>\n",
       "</table>\n"
      ],
      "text/latex": [
       "A grouped\\_df: 21 × 4\n",
       "\\begin{tabular}{llll}\n",
       " sample & time & log\\_fit & pred\\\\\n",
       " <fct> & <int> & <dbl> & <dbl>\\\\\n",
       "\\hline\n",
       "\t Bread               &   0 & 0.000000 &  0.07352704\\\\\n",
       "\t Bread               &  30 & 1.196008 &  1.20922636\\\\\n",
       "\t Bread               &  60 & 2.483212 &  2.34492568\\\\\n",
       "\t Bread               &  90 & 3.537814 &  3.48062500\\\\\n",
       "\t Bread               & 120 & 4.507594 &  4.61632432\\\\\n",
       "\t Keteki Joha         &   0 & 0.000000 &  0.15382406\\\\\n",
       "\t Keteki Joha         &  30 & 1.437702 &  1.28732035\\\\\n",
       "\t Keteki Joha         &  60 & 2.581525 &  2.42081664\\\\\n",
       "\t Keteki Joha         &  90 & 3.397047 &  3.55431292\\\\\n",
       "\t Kola joha           &   0 & 0.000000 & -0.05008179\\\\\n",
       "\t Kola joha           &  30 & 1.334428 &  1.36972852\\\\\n",
       "\t Kola joha           &  60 & 2.709895 &  2.78953883\\\\\n",
       "\t Kola joha           &  90 & 4.274212 &  4.20934915\\\\\n",
       "\t Kon joha            &   0 & 0.000000 &  0.11633460\\\\\n",
       "\t Kon joha            &  30 & 1.537728 &  1.28705377\\\\\n",
       "\t Kon joha            &  60 & 2.305428 &  2.45777295\\\\\n",
       "\t Kon joha            &  90 & 3.646497 &  3.62849212\\\\\n",
       "\t Maniki modhuri joha &   0 & 0.000000 & -0.01127918\\\\\n",
       "\t Maniki modhuri joha &  30 & 1.293568 &  1.30209856\\\\\n",
       "\t Maniki modhuri joha &  60 & 2.598699 &  2.61547629\\\\\n",
       "\t Maniki modhuri joha &  90 & 3.942882 &  3.92885403\\\\\n",
       "\\end{tabular}\n"
      ],
      "text/markdown": [
       "\n",
       "A grouped_df: 21 × 4\n",
       "\n",
       "| sample &lt;fct&gt; | time &lt;int&gt; | log_fit &lt;dbl&gt; | pred &lt;dbl&gt; |\n",
       "|---|---|---|---|\n",
       "| Bread               |   0 | 0.000000 |  0.07352704 |\n",
       "| Bread               |  30 | 1.196008 |  1.20922636 |\n",
       "| Bread               |  60 | 2.483212 |  2.34492568 |\n",
       "| Bread               |  90 | 3.537814 |  3.48062500 |\n",
       "| Bread               | 120 | 4.507594 |  4.61632432 |\n",
       "| Keteki Joha         |   0 | 0.000000 |  0.15382406 |\n",
       "| Keteki Joha         |  30 | 1.437702 |  1.28732035 |\n",
       "| Keteki Joha         |  60 | 2.581525 |  2.42081664 |\n",
       "| Keteki Joha         |  90 | 3.397047 |  3.55431292 |\n",
       "| Kola joha           |   0 | 0.000000 | -0.05008179 |\n",
       "| Kola joha           |  30 | 1.334428 |  1.36972852 |\n",
       "| Kola joha           |  60 | 2.709895 |  2.78953883 |\n",
       "| Kola joha           |  90 | 4.274212 |  4.20934915 |\n",
       "| Kon joha            |   0 | 0.000000 |  0.11633460 |\n",
       "| Kon joha            |  30 | 1.537728 |  1.28705377 |\n",
       "| Kon joha            |  60 | 2.305428 |  2.45777295 |\n",
       "| Kon joha            |  90 | 3.646497 |  3.62849212 |\n",
       "| Maniki modhuri joha |   0 | 0.000000 | -0.01127918 |\n",
       "| Maniki modhuri joha |  30 | 1.293568 |  1.30209856 |\n",
       "| Maniki modhuri joha |  60 | 2.598699 |  2.61547629 |\n",
       "| Maniki modhuri joha |  90 | 3.942882 |  3.92885403 |\n",
       "\n"
      ],
      "text/plain": [
       "   sample              time log_fit  pred       \n",
       "1  Bread                 0  0.000000  0.07352704\n",
       "2  Bread                30  1.196008  1.20922636\n",
       "3  Bread                60  2.483212  2.34492568\n",
       "4  Bread                90  3.537814  3.48062500\n",
       "5  Bread               120  4.507594  4.61632432\n",
       "6  Keteki Joha           0  0.000000  0.15382406\n",
       "7  Keteki Joha          30  1.437702  1.28732035\n",
       "8  Keteki Joha          60  2.581525  2.42081664\n",
       "9  Keteki Joha          90  3.397047  3.55431292\n",
       "10 Kola joha             0  0.000000 -0.05008179\n",
       "11 Kola joha            30  1.334428  1.36972852\n",
       "12 Kola joha            60  2.709895  2.78953883\n",
       "13 Kola joha            90  4.274212  4.20934915\n",
       "14 Kon joha              0  0.000000  0.11633460\n",
       "15 Kon joha             30  1.537728  1.28705377\n",
       "16 Kon joha             60  2.305428  2.45777295\n",
       "17 Kon joha             90  3.646497  3.62849212\n",
       "18 Maniki modhuri joha   0  0.000000 -0.01127918\n",
       "19 Maniki modhuri joha  30  1.293568  1.30209856\n",
       "20 Maniki modhuri joha  60  2.598699  2.61547629\n",
       "21 Maniki modhuri joha  90  3.942882  3.92885403"
      ]
     },
     "metadata": {},
     "output_type": "display_data"
    }
   ],
   "source": [
    "hydrolysis_data_log"
   ]
  },
  {
   "cell_type": "markdown",
   "metadata": {},
   "source": [
    "## Add predicted starch concentration "
   ]
  },
  {
   "cell_type": "markdown",
   "metadata": {},
   "source": [
    "First check the structures"
   ]
  },
  {
   "cell_type": "code",
   "execution_count": 224,
   "metadata": {},
   "outputs": [
    {
     "name": "stdout",
     "output_type": "stream",
     "text": [
      "'data.frame':\t35 obs. of  3 variables:\n",
      " $ time          : int  0 30 60 90 120 150 180 0 30 60 ...\n",
      " $ sample        : Factor w/ 5 levels \"Bread\",\"Keteki Joha\",..: 1 1 1 1 1 1 1 4 4 4 ...\n",
      " $ starch_release: num  0 57.6 75.7 80.1 81.6 ...\n"
     ]
    }
   ],
   "source": [
    "str(hydrolysis_data)"
   ]
  },
  {
   "cell_type": "code",
   "execution_count": 225,
   "metadata": {},
   "outputs": [
    {
     "name": "stdout",
     "output_type": "stream",
     "text": [
      "Classes 'grouped_df', 'tbl_df', 'tbl' and 'data.frame':\t5 obs. of  5 variables:\n",
      " $ time          : int  150 120 120 120 120\n",
      " $ sample        : Factor w/ 5 levels \"Bread\",\"Keteki Joha\",..: 1 2 3 4 5\n",
      " $ starch_release: num  82.5 50.5 48.8 56.4 50\n",
      " $ intercept     : num  0.0735 0.1538 -0.0501 0.1163 -0.0113\n",
      " $ rate          : num  0.0379 0.0378 0.0473 0.039 0.0438\n",
      " - attr(*, \"groups\")=Classes 'tbl_df', 'tbl' and 'data.frame':\t5 obs. of  2 variables:\n",
      "  ..$ sample: Factor w/ 5 levels \"Bread\",\"Keteki Joha\",..: 1 2 3 4 5\n",
      "  ..$ .rows :List of 5\n",
      "  .. ..$ : int 1\n",
      "  .. ..$ : int 2\n",
      "  .. ..$ : int 3\n",
      "  .. ..$ : int 4\n",
      "  .. ..$ : int 5\n",
      "  ..- attr(*, \".drop\")= logi TRUE\n"
     ]
    }
   ],
   "source": [
    "str(out_table)"
   ]
  },
  {
   "cell_type": "code",
   "execution_count": 226,
   "metadata": {},
   "outputs": [],
   "source": [
    "hydrolysis_data = hydrolysis_data %>% group_by(sample) %>% \n",
    "  mutate(pred = fo_conc_calc(\n",
    "    as.numeric(out_table[out_table$sample %in% sample, \"starch_release\"]),\n",
    "    as.numeric(out_table[out_table$sample %in% sample, \"rate\"]),\n",
    "    time\n",
    "#    as.numeric(levels(time))[time] # converts factor to numeric value\n",
    "  ))"
   ]
  },
  {
   "cell_type": "code",
   "execution_count": 227,
   "metadata": {},
   "outputs": [
    {
     "data": {
      "text/html": [
       "<table>\n",
       "<caption>A grouped_df: 35 × 4</caption>\n",
       "<thead>\n",
       "\t<tr><th scope=col>time</th><th scope=col>sample</th><th scope=col>starch_release</th><th scope=col>pred</th></tr>\n",
       "\t<tr><th scope=col>&lt;int&gt;</th><th scope=col>&lt;fct&gt;</th><th scope=col>&lt;dbl&gt;</th><th scope=col>&lt;dbl&gt;</th></tr>\n",
       "</thead>\n",
       "<tbody>\n",
       "\t<tr><td>  0</td><td>Bread              </td><td> 0.00</td><td> 0.00000</td></tr>\n",
       "\t<tr><td> 30</td><td>Bread              </td><td>57.58</td><td>56.02836</td></tr>\n",
       "\t<tr><td> 60</td><td>Bread              </td><td>75.65</td><td>74.02453</td></tr>\n",
       "\t<tr><td> 90</td><td>Bread              </td><td>80.14</td><td>79.80485</td></tr>\n",
       "\t<tr><td>120</td><td>Bread              </td><td>81.63</td><td>81.66148</td></tr>\n",
       "\t<tr><td>150</td><td>Bread              </td><td>82.54</td><td>82.25782</td></tr>\n",
       "\t<tr><td>180</td><td>Bread              </td><td>82.54</td><td>82.44936</td></tr>\n",
       "\t<tr><td>  0</td><td>Kon joha           </td><td> 0.00</td><td> 0.00000</td></tr>\n",
       "\t<tr><td> 30</td><td>Kon joha           </td><td>44.25</td><td>38.88029</td></tr>\n",
       "\t<tr><td> 60</td><td>Kon joha           </td><td>50.74</td><td>50.93878</td></tr>\n",
       "\t<tr><td> 90</td><td>Kon joha           </td><td>54.89</td><td>54.67864</td></tr>\n",
       "\t<tr><td>120</td><td>Kon joha           </td><td>56.36</td><td>55.83854</td></tr>\n",
       "\t<tr><td>150</td><td>Kon joha           </td><td>56.36</td><td>56.19827</td></tr>\n",
       "\t<tr><td>180</td><td>Kon joha           </td><td>56.36</td><td>56.30984</td></tr>\n",
       "\t<tr><td>  0</td><td>Keteki Joha        </td><td> 0.00</td><td> 0.00000</td></tr>\n",
       "\t<tr><td> 30</td><td>Keteki Joha        </td><td>38.50</td><td>34.23698</td></tr>\n",
       "\t<tr><td> 60</td><td>Keteki Joha        </td><td>46.67</td><td>45.25806</td></tr>\n",
       "\t<tr><td> 90</td><td>Keteki Joha        </td><td>48.80</td><td>48.80581</td></tr>\n",
       "\t<tr><td>120</td><td>Keteki Joha        </td><td>50.49</td><td>49.94785</td></tr>\n",
       "\t<tr><td>150</td><td>Keteki Joha        </td><td>50.49</td><td>50.31548</td></tr>\n",
       "\t<tr><td>180</td><td>Keteki Joha        </td><td>50.49</td><td>50.43382</td></tr>\n",
       "\t<tr><td>  0</td><td>Maniki modhuri joha</td><td> 0.00</td><td> 0.00000</td></tr>\n",
       "\t<tr><td> 30</td><td>Maniki modhuri joha</td><td>36.30</td><td>36.56911</td></tr>\n",
       "\t<tr><td> 60</td><td>Maniki modhuri joha</td><td>46.30</td><td>46.40292</td></tr>\n",
       "\t<tr><td> 90</td><td>Maniki modhuri joha</td><td>49.05</td><td>49.04733</td></tr>\n",
       "\t<tr><td>120</td><td>Maniki modhuri joha</td><td>50.02</td><td>49.75844</td></tr>\n",
       "\t<tr><td>150</td><td>Maniki modhuri joha</td><td>50.02</td><td>49.94966</td></tr>\n",
       "\t<tr><td>180</td><td>Maniki modhuri joha</td><td>50.02</td><td>50.00109</td></tr>\n",
       "\t<tr><td>  0</td><td>Kola joha          </td><td> 0.00</td><td> 0.00000</td></tr>\n",
       "\t<tr><td> 30</td><td>Kola joha          </td><td>35.98</td><td>37.03245</td></tr>\n",
       "\t<tr><td> 60</td><td>Kola joha          </td><td>45.59</td><td>45.98541</td></tr>\n",
       "\t<tr><td> 90</td><td>Kola joha          </td><td>48.16</td><td>48.14987</td></tr>\n",
       "\t<tr><td>120</td><td>Kola joha          </td><td>48.84</td><td>48.67316</td></tr>\n",
       "\t<tr><td>150</td><td>Kola joha          </td><td>48.84</td><td>48.79966</td></tr>\n",
       "\t<tr><td>180</td><td>Kola joha          </td><td>48.84</td><td>48.83025</td></tr>\n",
       "</tbody>\n",
       "</table>\n"
      ],
      "text/latex": [
       "A grouped\\_df: 35 × 4\n",
       "\\begin{tabular}{llll}\n",
       " time & sample & starch\\_release & pred\\\\\n",
       " <int> & <fct> & <dbl> & <dbl>\\\\\n",
       "\\hline\n",
       "\t   0 & Bread               &  0.00 &  0.00000\\\\\n",
       "\t  30 & Bread               & 57.58 & 56.02836\\\\\n",
       "\t  60 & Bread               & 75.65 & 74.02453\\\\\n",
       "\t  90 & Bread               & 80.14 & 79.80485\\\\\n",
       "\t 120 & Bread               & 81.63 & 81.66148\\\\\n",
       "\t 150 & Bread               & 82.54 & 82.25782\\\\\n",
       "\t 180 & Bread               & 82.54 & 82.44936\\\\\n",
       "\t   0 & Kon joha            &  0.00 &  0.00000\\\\\n",
       "\t  30 & Kon joha            & 44.25 & 38.88029\\\\\n",
       "\t  60 & Kon joha            & 50.74 & 50.93878\\\\\n",
       "\t  90 & Kon joha            & 54.89 & 54.67864\\\\\n",
       "\t 120 & Kon joha            & 56.36 & 55.83854\\\\\n",
       "\t 150 & Kon joha            & 56.36 & 56.19827\\\\\n",
       "\t 180 & Kon joha            & 56.36 & 56.30984\\\\\n",
       "\t   0 & Keteki Joha         &  0.00 &  0.00000\\\\\n",
       "\t  30 & Keteki Joha         & 38.50 & 34.23698\\\\\n",
       "\t  60 & Keteki Joha         & 46.67 & 45.25806\\\\\n",
       "\t  90 & Keteki Joha         & 48.80 & 48.80581\\\\\n",
       "\t 120 & Keteki Joha         & 50.49 & 49.94785\\\\\n",
       "\t 150 & Keteki Joha         & 50.49 & 50.31548\\\\\n",
       "\t 180 & Keteki Joha         & 50.49 & 50.43382\\\\\n",
       "\t   0 & Maniki modhuri joha &  0.00 &  0.00000\\\\\n",
       "\t  30 & Maniki modhuri joha & 36.30 & 36.56911\\\\\n",
       "\t  60 & Maniki modhuri joha & 46.30 & 46.40292\\\\\n",
       "\t  90 & Maniki modhuri joha & 49.05 & 49.04733\\\\\n",
       "\t 120 & Maniki modhuri joha & 50.02 & 49.75844\\\\\n",
       "\t 150 & Maniki modhuri joha & 50.02 & 49.94966\\\\\n",
       "\t 180 & Maniki modhuri joha & 50.02 & 50.00109\\\\\n",
       "\t   0 & Kola joha           &  0.00 &  0.00000\\\\\n",
       "\t  30 & Kola joha           & 35.98 & 37.03245\\\\\n",
       "\t  60 & Kola joha           & 45.59 & 45.98541\\\\\n",
       "\t  90 & Kola joha           & 48.16 & 48.14987\\\\\n",
       "\t 120 & Kola joha           & 48.84 & 48.67316\\\\\n",
       "\t 150 & Kola joha           & 48.84 & 48.79966\\\\\n",
       "\t 180 & Kola joha           & 48.84 & 48.83025\\\\\n",
       "\\end{tabular}\n"
      ],
      "text/markdown": [
       "\n",
       "A grouped_df: 35 × 4\n",
       "\n",
       "| time &lt;int&gt; | sample &lt;fct&gt; | starch_release &lt;dbl&gt; | pred &lt;dbl&gt; |\n",
       "|---|---|---|---|\n",
       "|   0 | Bread               |  0.00 |  0.00000 |\n",
       "|  30 | Bread               | 57.58 | 56.02836 |\n",
       "|  60 | Bread               | 75.65 | 74.02453 |\n",
       "|  90 | Bread               | 80.14 | 79.80485 |\n",
       "| 120 | Bread               | 81.63 | 81.66148 |\n",
       "| 150 | Bread               | 82.54 | 82.25782 |\n",
       "| 180 | Bread               | 82.54 | 82.44936 |\n",
       "|   0 | Kon joha            |  0.00 |  0.00000 |\n",
       "|  30 | Kon joha            | 44.25 | 38.88029 |\n",
       "|  60 | Kon joha            | 50.74 | 50.93878 |\n",
       "|  90 | Kon joha            | 54.89 | 54.67864 |\n",
       "| 120 | Kon joha            | 56.36 | 55.83854 |\n",
       "| 150 | Kon joha            | 56.36 | 56.19827 |\n",
       "| 180 | Kon joha            | 56.36 | 56.30984 |\n",
       "|   0 | Keteki Joha         |  0.00 |  0.00000 |\n",
       "|  30 | Keteki Joha         | 38.50 | 34.23698 |\n",
       "|  60 | Keteki Joha         | 46.67 | 45.25806 |\n",
       "|  90 | Keteki Joha         | 48.80 | 48.80581 |\n",
       "| 120 | Keteki Joha         | 50.49 | 49.94785 |\n",
       "| 150 | Keteki Joha         | 50.49 | 50.31548 |\n",
       "| 180 | Keteki Joha         | 50.49 | 50.43382 |\n",
       "|   0 | Maniki modhuri joha |  0.00 |  0.00000 |\n",
       "|  30 | Maniki modhuri joha | 36.30 | 36.56911 |\n",
       "|  60 | Maniki modhuri joha | 46.30 | 46.40292 |\n",
       "|  90 | Maniki modhuri joha | 49.05 | 49.04733 |\n",
       "| 120 | Maniki modhuri joha | 50.02 | 49.75844 |\n",
       "| 150 | Maniki modhuri joha | 50.02 | 49.94966 |\n",
       "| 180 | Maniki modhuri joha | 50.02 | 50.00109 |\n",
       "|   0 | Kola joha           |  0.00 |  0.00000 |\n",
       "|  30 | Kola joha           | 35.98 | 37.03245 |\n",
       "|  60 | Kola joha           | 45.59 | 45.98541 |\n",
       "|  90 | Kola joha           | 48.16 | 48.14987 |\n",
       "| 120 | Kola joha           | 48.84 | 48.67316 |\n",
       "| 150 | Kola joha           | 48.84 | 48.79966 |\n",
       "| 180 | Kola joha           | 48.84 | 48.83025 |\n",
       "\n"
      ],
      "text/plain": [
       "   time sample              starch_release pred    \n",
       "1    0  Bread                0.00           0.00000\n",
       "2   30  Bread               57.58          56.02836\n",
       "3   60  Bread               75.65          74.02453\n",
       "4   90  Bread               80.14          79.80485\n",
       "5  120  Bread               81.63          81.66148\n",
       "6  150  Bread               82.54          82.25782\n",
       "7  180  Bread               82.54          82.44936\n",
       "8    0  Kon joha             0.00           0.00000\n",
       "9   30  Kon joha            44.25          38.88029\n",
       "10  60  Kon joha            50.74          50.93878\n",
       "11  90  Kon joha            54.89          54.67864\n",
       "12 120  Kon joha            56.36          55.83854\n",
       "13 150  Kon joha            56.36          56.19827\n",
       "14 180  Kon joha            56.36          56.30984\n",
       "15   0  Keteki Joha          0.00           0.00000\n",
       "16  30  Keteki Joha         38.50          34.23698\n",
       "17  60  Keteki Joha         46.67          45.25806\n",
       "18  90  Keteki Joha         48.80          48.80581\n",
       "19 120  Keteki Joha         50.49          49.94785\n",
       "20 150  Keteki Joha         50.49          50.31548\n",
       "21 180  Keteki Joha         50.49          50.43382\n",
       "22   0  Maniki modhuri joha  0.00           0.00000\n",
       "23  30  Maniki modhuri joha 36.30          36.56911\n",
       "24  60  Maniki modhuri joha 46.30          46.40292\n",
       "25  90  Maniki modhuri joha 49.05          49.04733\n",
       "26 120  Maniki modhuri joha 50.02          49.75844\n",
       "27 150  Maniki modhuri joha 50.02          49.94966\n",
       "28 180  Maniki modhuri joha 50.02          50.00109\n",
       "29   0  Kola joha            0.00           0.00000\n",
       "30  30  Kola joha           35.98          37.03245\n",
       "31  60  Kola joha           45.59          45.98541\n",
       "32  90  Kola joha           48.16          48.14987\n",
       "33 120  Kola joha           48.84          48.67316\n",
       "34 150  Kola joha           48.84          48.79966\n",
       "35 180  Kola joha           48.84          48.83025"
      ]
     },
     "metadata": {},
     "output_type": "display_data"
    }
   ],
   "source": [
    "hydrolysis_data"
   ]
  },
  {
   "cell_type": "code",
   "execution_count": 242,
   "metadata": {},
   "outputs": [
    {
     "data": {
      "image/png": "[encoded data removed]",
      "text/plain": [
       "plot without title"
      ]
     },
     "metadata": {
      "image/png": {
       "height": 420,
       "width": 420
      },
      "text/plain": {
       "height": 420,
       "width": 420
      }
     },
     "output_type": "display_data"
    }
   ],
   "source": [
    "hydrolysis_data_melted = hydrolysis_data %>%  gather(key = \"variable\", value=\"starch_release\", c(-sample, -time))\n",
    "ggplot(data = hydrolysis_data_melted, aes(x=time, y=starch_release)) +\n",
    "    geom_line(aes(color=variable)) +\n",
    "    facet_wrap(~sample) +\n",
    "    theme_bw()"
   ]
  },
  {
   "cell_type": "markdown",
   "metadata": {},
   "source": [
    "## View the plots by rate constant for analysis and trimming unneeded data poins which are kind of outliers"
   ]
  },
  {
   "cell_type": "code",
   "execution_count": 229,
   "metadata": {},
   "outputs": [],
   "source": [
    "library(mosaic)"
   ]
  },
  {
   "cell_type": "code",
   "execution_count": 230,
   "metadata": {},
   "outputs": [],
   "source": [
    "out_table = out_table %>% group_by(sample) %>%\n",
    "  mutate(auc = integrate(f, C_EQ = starch_release, k = rate, lower = 0, upper = 180)[[1]])"
   ]
  },
  {
   "cell_type": "code",
   "execution_count": 231,
   "metadata": {},
   "outputs": [
    {
     "data": {
      "text/html": [
       "<table>\n",
       "<caption>A grouped_df: 5 × 6</caption>\n",
       "<thead>\n",
       "\t<tr><th scope=col>time</th><th scope=col>sample</th><th scope=col>starch_release</th><th scope=col>intercept</th><th scope=col>rate</th><th scope=col>auc</th></tr>\n",
       "\t<tr><th scope=col>&lt;int&gt;</th><th scope=col>&lt;fct&gt;</th><th scope=col>&lt;dbl&gt;</th><th scope=col>&lt;dbl&gt;</th><th scope=col>&lt;dbl&gt;</th><th scope=col>&lt;dbl&gt;</th></tr>\n",
       "</thead>\n",
       "<tbody>\n",
       "\t<tr><td>150</td><td>Bread              </td><td>82.54</td><td> 0.07352704</td><td>0.03785664</td><td>12679.264</td></tr>\n",
       "\t<tr><td>120</td><td>Keteki Joha        </td><td>50.49</td><td> 0.15382406</td><td>0.03778321</td><td> 7753.379</td></tr>\n",
       "\t<tr><td>120</td><td>Kola joha          </td><td>48.84</td><td>-0.05008179</td><td>0.04732701</td><td> 7759.437</td></tr>\n",
       "\t<tr><td>120</td><td>Kon joha           </td><td>56.36</td><td> 0.11633460</td><td>0.03902397</td><td> 8701.845</td></tr>\n",
       "\t<tr><td>120</td><td>Maniki modhuri joha</td><td>50.02</td><td>-0.01127918</td><td>0.04377926</td><td> 7861.482</td></tr>\n",
       "</tbody>\n",
       "</table>\n"
      ],
      "text/latex": [
       "A grouped\\_df: 5 × 6\n",
       "\\begin{tabular}{llllll}\n",
       " time & sample & starch\\_release & intercept & rate & auc\\\\\n",
       " <int> & <fct> & <dbl> & <dbl> & <dbl> & <dbl>\\\\\n",
       "\\hline\n",
       "\t 150 & Bread               & 82.54 &  0.07352704 & 0.03785664 & 12679.264\\\\\n",
       "\t 120 & Keteki Joha         & 50.49 &  0.15382406 & 0.03778321 &  7753.379\\\\\n",
       "\t 120 & Kola joha           & 48.84 & -0.05008179 & 0.04732701 &  7759.437\\\\\n",
       "\t 120 & Kon joha            & 56.36 &  0.11633460 & 0.03902397 &  8701.845\\\\\n",
       "\t 120 & Maniki modhuri joha & 50.02 & -0.01127918 & 0.04377926 &  7861.482\\\\\n",
       "\\end{tabular}\n"
      ],
      "text/markdown": [
       "\n",
       "A grouped_df: 5 × 6\n",
       "\n",
       "| time &lt;int&gt; | sample &lt;fct&gt; | starch_release &lt;dbl&gt; | intercept &lt;dbl&gt; | rate &lt;dbl&gt; | auc &lt;dbl&gt; |\n",
       "|---|---|---|---|---|---|\n",
       "| 150 | Bread               | 82.54 |  0.07352704 | 0.03785664 | 12679.264 |\n",
       "| 120 | Keteki Joha         | 50.49 |  0.15382406 | 0.03778321 |  7753.379 |\n",
       "| 120 | Kola joha           | 48.84 | -0.05008179 | 0.04732701 |  7759.437 |\n",
       "| 120 | Kon joha            | 56.36 |  0.11633460 | 0.03902397 |  8701.845 |\n",
       "| 120 | Maniki modhuri joha | 50.02 | -0.01127918 | 0.04377926 |  7861.482 |\n",
       "\n"
      ],
      "text/plain": [
       "  time sample              starch_release intercept   rate       auc      \n",
       "1 150  Bread               82.54           0.07352704 0.03785664 12679.264\n",
       "2 120  Keteki Joha         50.49           0.15382406 0.03778321  7753.379\n",
       "3 120  Kola joha           48.84          -0.05008179 0.04732701  7759.437\n",
       "4 120  Kon joha            56.36           0.11633460 0.03902397  8701.845\n",
       "5 120  Maniki modhuri joha 50.02          -0.01127918 0.04377926  7861.482"
      ]
     },
     "metadata": {},
     "output_type": "display_data"
    }
   ],
   "source": [
    "out_table"
   ]
  },
  {
   "cell_type": "markdown",
   "metadata": {},
   "source": [
    "## Calculate Hydrolysis index - as Goni et al, and Grandfield et al reffreing to AUC of Bread"
   ]
  },
  {
   "cell_type": "code",
   "execution_count": 232,
   "metadata": {},
   "outputs": [],
   "source": [
    "auc_bread = as.numeric(out_table[out_table$sample %in% \"Bread\", \"auc\"])\n",
    "auc_bread_goni = integrate(f, C_EQ = 78.19, k = 0.04, lower = 0, upper = 180)[[1]]"
   ]
  },
  {
   "cell_type": "code",
   "execution_count": 233,
   "metadata": {},
   "outputs": [],
   "source": [
    "out_table = out_table %>% group_by(sample) %>%\n",
    "  mutate(hi = auc*100/auc_bread)"
   ]
  },
  {
   "cell_type": "code",
   "execution_count": 234,
   "metadata": {},
   "outputs": [
    {
     "data": {
      "text/html": [
       "<table>\n",
       "<caption>A grouped_df: 5 × 7</caption>\n",
       "<thead>\n",
       "\t<tr><th scope=col>time</th><th scope=col>sample</th><th scope=col>starch_release</th><th scope=col>intercept</th><th scope=col>rate</th><th scope=col>auc</th><th scope=col>hi</th></tr>\n",
       "\t<tr><th scope=col>&lt;int&gt;</th><th scope=col>&lt;fct&gt;</th><th scope=col>&lt;dbl&gt;</th><th scope=col>&lt;dbl&gt;</th><th scope=col>&lt;dbl&gt;</th><th scope=col>&lt;dbl&gt;</th><th scope=col>&lt;dbl&gt;</th></tr>\n",
       "</thead>\n",
       "<tbody>\n",
       "\t<tr><td>150</td><td>Bread              </td><td>82.54</td><td> 0.07352704</td><td>0.03785664</td><td>12679.264</td><td>100.00000</td></tr>\n",
       "\t<tr><td>120</td><td>Keteki Joha        </td><td>50.49</td><td> 0.15382406</td><td>0.03778321</td><td> 7753.379</td><td> 61.15007</td></tr>\n",
       "\t<tr><td>120</td><td>Kola joha          </td><td>48.84</td><td>-0.05008179</td><td>0.04732701</td><td> 7759.437</td><td> 61.19785</td></tr>\n",
       "\t<tr><td>120</td><td>Kon joha           </td><td>56.36</td><td> 0.11633460</td><td>0.03902397</td><td> 8701.845</td><td> 68.63052</td></tr>\n",
       "\t<tr><td>120</td><td>Maniki modhuri joha</td><td>50.02</td><td>-0.01127918</td><td>0.04377926</td><td> 7861.482</td><td> 62.00267</td></tr>\n",
       "</tbody>\n",
       "</table>\n"
      ],
      "text/latex": [
       "A grouped\\_df: 5 × 7\n",
       "\\begin{tabular}{lllllll}\n",
       " time & sample & starch\\_release & intercept & rate & auc & hi\\\\\n",
       " <int> & <fct> & <dbl> & <dbl> & <dbl> & <dbl> & <dbl>\\\\\n",
       "\\hline\n",
       "\t 150 & Bread               & 82.54 &  0.07352704 & 0.03785664 & 12679.264 & 100.00000\\\\\n",
       "\t 120 & Keteki Joha         & 50.49 &  0.15382406 & 0.03778321 &  7753.379 &  61.15007\\\\\n",
       "\t 120 & Kola joha           & 48.84 & -0.05008179 & 0.04732701 &  7759.437 &  61.19785\\\\\n",
       "\t 120 & Kon joha            & 56.36 &  0.11633460 & 0.03902397 &  8701.845 &  68.63052\\\\\n",
       "\t 120 & Maniki modhuri joha & 50.02 & -0.01127918 & 0.04377926 &  7861.482 &  62.00267\\\\\n",
       "\\end{tabular}\n"
      ],
      "text/markdown": [
       "\n",
       "A grouped_df: 5 × 7\n",
       "\n",
       "| time &lt;int&gt; | sample &lt;fct&gt; | starch_release &lt;dbl&gt; | intercept &lt;dbl&gt; | rate &lt;dbl&gt; | auc &lt;dbl&gt; | hi &lt;dbl&gt; |\n",
       "|---|---|---|---|---|---|---|\n",
       "| 150 | Bread               | 82.54 |  0.07352704 | 0.03785664 | 12679.264 | 100.00000 |\n",
       "| 120 | Keteki Joha         | 50.49 |  0.15382406 | 0.03778321 |  7753.379 |  61.15007 |\n",
       "| 120 | Kola joha           | 48.84 | -0.05008179 | 0.04732701 |  7759.437 |  61.19785 |\n",
       "| 120 | Kon joha            | 56.36 |  0.11633460 | 0.03902397 |  8701.845 |  68.63052 |\n",
       "| 120 | Maniki modhuri joha | 50.02 | -0.01127918 | 0.04377926 |  7861.482 |  62.00267 |\n",
       "\n"
      ],
      "text/plain": [
       "  time sample              starch_release intercept   rate       auc      \n",
       "1 150  Bread               82.54           0.07352704 0.03785664 12679.264\n",
       "2 120  Keteki Joha         50.49           0.15382406 0.03778321  7753.379\n",
       "3 120  Kola joha           48.84          -0.05008179 0.04732701  7759.437\n",
       "4 120  Kon joha            56.36           0.11633460 0.03902397  8701.845\n",
       "5 120  Maniki modhuri joha 50.02          -0.01127918 0.04377926  7861.482\n",
       "  hi       \n",
       "1 100.00000\n",
       "2  61.15007\n",
       "3  61.19785\n",
       "4  68.63052\n",
       "5  62.00267"
      ]
     },
     "metadata": {},
     "output_type": "display_data"
    }
   ],
   "source": [
    "out_table"
   ]
  },
  {
   "cell_type": "markdown",
   "metadata": {},
   "source": [
    "## eGI values - Goni et al"
   ]
  },
  {
   "cell_type": "code",
   "execution_count": 235,
   "metadata": {},
   "outputs": [],
   "source": [
    "out_table = out_table %>% group_by(sample) %>%\n",
    "  mutate(egi_goni = 39.71 + 0.549 * hi)"
   ]
  },
  {
   "cell_type": "markdown",
   "metadata": {},
   "source": [
    "## eGI values - Grandfield et al"
   ]
  },
  {
   "cell_type": "code",
   "execution_count": 236,
   "metadata": {},
   "outputs": [],
   "source": [
    "out_table = out_table %>% group_by(sample) %>%\n",
    "  mutate(egi_grandfield = 8.198 + 0.862 * hi)"
   ]
  },
  {
   "cell_type": "code",
   "execution_count": 237,
   "metadata": {},
   "outputs": [
    {
     "data": {
      "text/html": [
       "<table>\n",
       "<caption>A grouped_df: 5 × 9</caption>\n",
       "<thead>\n",
       "\t<tr><th scope=col>time</th><th scope=col>sample</th><th scope=col>starch_release</th><th scope=col>intercept</th><th scope=col>rate</th><th scope=col>auc</th><th scope=col>hi</th><th scope=col>egi_goni</th><th scope=col>egi_grandfield</th></tr>\n",
       "\t<tr><th scope=col>&lt;int&gt;</th><th scope=col>&lt;fct&gt;</th><th scope=col>&lt;dbl&gt;</th><th scope=col>&lt;dbl&gt;</th><th scope=col>&lt;dbl&gt;</th><th scope=col>&lt;dbl&gt;</th><th scope=col>&lt;dbl&gt;</th><th scope=col>&lt;dbl&gt;</th><th scope=col>&lt;dbl&gt;</th></tr>\n",
       "</thead>\n",
       "<tbody>\n",
       "\t<tr><td>150</td><td>Bread              </td><td>82.54</td><td> 0.07352704</td><td>0.03785664</td><td>12679.264</td><td>100.00000</td><td>94.61000</td><td>94.39800</td></tr>\n",
       "\t<tr><td>120</td><td>Keteki Joha        </td><td>50.49</td><td> 0.15382406</td><td>0.03778321</td><td> 7753.379</td><td> 61.15007</td><td>73.28139</td><td>60.90936</td></tr>\n",
       "\t<tr><td>120</td><td>Kola joha          </td><td>48.84</td><td>-0.05008179</td><td>0.04732701</td><td> 7759.437</td><td> 61.19785</td><td>73.30762</td><td>60.95055</td></tr>\n",
       "\t<tr><td>120</td><td>Kon joha           </td><td>56.36</td><td> 0.11633460</td><td>0.03902397</td><td> 8701.845</td><td> 68.63052</td><td>77.38816</td><td>67.35751</td></tr>\n",
       "\t<tr><td>120</td><td>Maniki modhuri joha</td><td>50.02</td><td>-0.01127918</td><td>0.04377926</td><td> 7861.482</td><td> 62.00267</td><td>73.74947</td><td>61.64430</td></tr>\n",
       "</tbody>\n",
       "</table>\n"
      ],
      "text/latex": [
       "A grouped\\_df: 5 × 9\n",
       "\\begin{tabular}{lllllllll}\n",
       " time & sample & starch\\_release & intercept & rate & auc & hi & egi\\_goni & egi\\_grandfield\\\\\n",
       " <int> & <fct> & <dbl> & <dbl> & <dbl> & <dbl> & <dbl> & <dbl> & <dbl>\\\\\n",
       "\\hline\n",
       "\t 150 & Bread               & 82.54 &  0.07352704 & 0.03785664 & 12679.264 & 100.00000 & 94.61000 & 94.39800\\\\\n",
       "\t 120 & Keteki Joha         & 50.49 &  0.15382406 & 0.03778321 &  7753.379 &  61.15007 & 73.28139 & 60.90936\\\\\n",
       "\t 120 & Kola joha           & 48.84 & -0.05008179 & 0.04732701 &  7759.437 &  61.19785 & 73.30762 & 60.95055\\\\\n",
       "\t 120 & Kon joha            & 56.36 &  0.11633460 & 0.03902397 &  8701.845 &  68.63052 & 77.38816 & 67.35751\\\\\n",
       "\t 120 & Maniki modhuri joha & 50.02 & -0.01127918 & 0.04377926 &  7861.482 &  62.00267 & 73.74947 & 61.64430\\\\\n",
       "\\end{tabular}\n"
      ],
      "text/markdown": [
       "\n",
       "A grouped_df: 5 × 9\n",
       "\n",
       "| time &lt;int&gt; | sample &lt;fct&gt; | starch_release &lt;dbl&gt; | intercept &lt;dbl&gt; | rate &lt;dbl&gt; | auc &lt;dbl&gt; | hi &lt;dbl&gt; | egi_goni &lt;dbl&gt; | egi_grandfield &lt;dbl&gt; |\n",
       "|---|---|---|---|---|---|---|---|---|\n",
       "| 150 | Bread               | 82.54 |  0.07352704 | 0.03785664 | 12679.264 | 100.00000 | 94.61000 | 94.39800 |\n",
       "| 120 | Keteki Joha         | 50.49 |  0.15382406 | 0.03778321 |  7753.379 |  61.15007 | 73.28139 | 60.90936 |\n",
       "| 120 | Kola joha           | 48.84 | -0.05008179 | 0.04732701 |  7759.437 |  61.19785 | 73.30762 | 60.95055 |\n",
       "| 120 | Kon joha            | 56.36 |  0.11633460 | 0.03902397 |  8701.845 |  68.63052 | 77.38816 | 67.35751 |\n",
       "| 120 | Maniki modhuri joha | 50.02 | -0.01127918 | 0.04377926 |  7861.482 |  62.00267 | 73.74947 | 61.64430 |\n",
       "\n"
      ],
      "text/plain": [
       "  time sample              starch_release intercept   rate       auc      \n",
       "1 150  Bread               82.54           0.07352704 0.03785664 12679.264\n",
       "2 120  Keteki Joha         50.49           0.15382406 0.03778321  7753.379\n",
       "3 120  Kola joha           48.84          -0.05008179 0.04732701  7759.437\n",
       "4 120  Kon joha            56.36           0.11633460 0.03902397  8701.845\n",
       "5 120  Maniki modhuri joha 50.02          -0.01127918 0.04377926  7861.482\n",
       "  hi        egi_goni egi_grandfield\n",
       "1 100.00000 94.61000 94.39800      \n",
       "2  61.15007 73.28139 60.90936      \n",
       "3  61.19785 73.30762 60.95055      \n",
       "4  68.63052 77.38816 67.35751      \n",
       "5  62.00267 73.74947 61.64430      "
      ]
     },
     "metadata": {},
     "output_type": "display_data"
    }
   ],
   "source": [
    "out_table"
   ]
  },
  {
   "cell_type": "markdown",
   "metadata": {},
   "source": [
    "## Use fololowing code to export as CSV"
   ]
  },
  {
   "cell_type": "code",
   "execution_count": 243,
   "metadata": {},
   "outputs": [],
   "source": [
    "#write.csv(out_table,\"../datasets/experimental/karabee_GI_output_table.csv\", row.names = FALSE)"
   ]
  },
  {
   "cell_type": "code",
   "execution_count": null,
   "metadata": {},
   "outputs": [],
   "source": []
  }
 ],
 "metadata": {
  "kernelspec": {
   "display_name": "R",
   "language": "R",
   "name": "ir"
  },
  "language_info": {
   "codemirror_mode": "r",
   "file_extension": ".r",
   "mimetype": "text/x-r-source",
   "name": "R",
   "pygments_lexer": "r",
   "version": "4.0.1"
  }
 },
 "nbformat": 4,
 "nbformat_minor": 4
}
