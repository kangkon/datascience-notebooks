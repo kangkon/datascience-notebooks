{
 "cells": [
  {
   "cell_type": "markdown",
   "metadata": {},
   "source": [
    "# What is ANOVA (ANalysis Of VAriance)?\n",
    "\n",
    "Test used to compare the means of more than 2 groups (t-test can be used to compare 2 groups) groups mean differences inferred by analyzing variances\n",
    "Main types: One-way (one factor) and two-way (two factors) ANOVA (factor is an independent variable)\n",
    "\n",
    "Note: In ANOVA, group, factors, and independent variables are similar terms\n",
    "\n",
    "### ANOVA Hypotheses\n",
    "\n",
    "**Null hypotheses**: Groups means are equal (no variation in means of groups)\n",
    "\n",
    "**Alternative hypotheses**: At least, one group mean is different from other groups\n",
    "\n",
    "### ANOVA Assumptions\n",
    "\n",
    "Residuals (experimental error) are normally distributed (Shapiro Wilks Test)\n",
    "\n",
    "Homogeneity of variances (variances are equal between treatment groups) (Levene or Bartlett Test)\n",
    "\n",
    "Observations are sampled independently from each other"
   ]
  },
  {
   "cell_type": "markdown",
   "metadata": {},
   "source": [
    "# ONEWAY ANOVA using Statsmodels Library\n",
    "following code will calculate oneway annova between sample groups on polyphenol datasets"
   ]
  },
  {
   "cell_type": "code",
   "execution_count": 1,
   "metadata": {},
   "outputs": [],
   "source": [
    "import statsmodels.api as sm\n",
    "from statsmodels.formula.api import ols\n",
    "import pandas as pd"
   ]
  },
  {
   "cell_type": "markdown",
   "metadata": {},
   "source": [
    "## Read Data from CSV file \n",
    "Read the data from `pulses-data.csv` and print head"
   ]
  },
  {
   "cell_type": "code",
   "execution_count": 2,
   "metadata": {},
   "outputs": [],
   "source": [
    "data = pd.read_csv(\"../datasets/pulses-data.csv\",) # as arg sep=\"\\t\" if tab delimited"
   ]
  },
  {
   "cell_type": "markdown",
   "metadata": {},
   "source": [
    "Print/View the data"
   ]
  },
  {
   "cell_type": "code",
   "execution_count": 3,
   "metadata": {},
   "outputs": [
    {
     "data": {
      "text/html": [
       "<div>\n",
       "<style scoped>\n",
       "    .dataframe tbody tr th:only-of-type {\n",
       "        vertical-align: middle;\n",
       "    }\n",
       "\n",
       "    .dataframe tbody tr th {\n",
       "        vertical-align: top;\n",
       "    }\n",
       "\n",
       "    .dataframe thead th {\n",
       "        text-align: right;\n",
       "    }\n",
       "</style>\n",
       "<table border=\"1\" class=\"dataframe\">\n",
       "  <thead>\n",
       "    <tr style=\"text-align: right;\">\n",
       "      <th></th>\n",
       "      <th>sample</th>\n",
       "      <th>catechin_content</th>\n",
       "      <th>tpc</th>\n",
       "      <th>Ic_50</th>\n",
       "    </tr>\n",
       "  </thead>\n",
       "  <tbody>\n",
       "    <tr>\n",
       "      <th>0</th>\n",
       "      <td>Black beans</td>\n",
       "      <td>14.1</td>\n",
       "      <td>3.40</td>\n",
       "      <td>97.3</td>\n",
       "    </tr>\n",
       "    <tr>\n",
       "      <th>1</th>\n",
       "      <td>Black beans</td>\n",
       "      <td>16.0</td>\n",
       "      <td>3.64</td>\n",
       "      <td>NaN</td>\n",
       "    </tr>\n",
       "    <tr>\n",
       "      <th>2</th>\n",
       "      <td>Black beans</td>\n",
       "      <td>14.4</td>\n",
       "      <td>3.15</td>\n",
       "      <td>NaN</td>\n",
       "    </tr>\n",
       "    <tr>\n",
       "      <th>3</th>\n",
       "      <td>Black chickpeas</td>\n",
       "      <td>187.1</td>\n",
       "      <td>1.20</td>\n",
       "      <td>125.1</td>\n",
       "    </tr>\n",
       "    <tr>\n",
       "      <th>4</th>\n",
       "      <td>Black chickpeas</td>\n",
       "      <td>189.6</td>\n",
       "      <td>1.31</td>\n",
       "      <td>NaN</td>\n",
       "    </tr>\n",
       "    <tr>\n",
       "      <th>...</th>\n",
       "      <td>...</td>\n",
       "      <td>...</td>\n",
       "      <td>...</td>\n",
       "      <td>...</td>\n",
       "    </tr>\n",
       "    <tr>\n",
       "      <th>58</th>\n",
       "      <td>Stregoni beans</td>\n",
       "      <td>459.8</td>\n",
       "      <td>2.36</td>\n",
       "      <td>NaN</td>\n",
       "    </tr>\n",
       "    <tr>\n",
       "      <th>59</th>\n",
       "      <td>Stregoni beans</td>\n",
       "      <td>458.2</td>\n",
       "      <td>1.99</td>\n",
       "      <td>NaN</td>\n",
       "    </tr>\n",
       "    <tr>\n",
       "      <th>60</th>\n",
       "      <td>Verdolino beans</td>\n",
       "      <td>82.7</td>\n",
       "      <td>3.44</td>\n",
       "      <td>68.8</td>\n",
       "    </tr>\n",
       "    <tr>\n",
       "      <th>61</th>\n",
       "      <td>Verdolino beans</td>\n",
       "      <td>83.9</td>\n",
       "      <td>3.57</td>\n",
       "      <td>NaN</td>\n",
       "    </tr>\n",
       "    <tr>\n",
       "      <th>62</th>\n",
       "      <td>Verdolino beans</td>\n",
       "      <td>82.8</td>\n",
       "      <td>3.32</td>\n",
       "      <td>NaN</td>\n",
       "    </tr>\n",
       "  </tbody>\n",
       "</table>\n",
       "<p>63 rows × 4 columns</p>\n",
       "</div>"
      ],
      "text/plain": [
       "             sample  catechin_content   tpc  Ic_50\n",
       "0       Black beans              14.1  3.40   97.3\n",
       "1       Black beans              16.0  3.64    NaN\n",
       "2       Black beans              14.4  3.15    NaN\n",
       "3   Black chickpeas             187.1  1.20  125.1\n",
       "4   Black chickpeas             189.6  1.31    NaN\n",
       "..              ...               ...   ...    ...\n",
       "58   Stregoni beans             459.8  2.36    NaN\n",
       "59   Stregoni beans             458.2  1.99    NaN\n",
       "60  Verdolino beans              82.7  3.44   68.8\n",
       "61  Verdolino beans              83.9  3.57    NaN\n",
       "62  Verdolino beans              82.8  3.32    NaN\n",
       "\n",
       "[63 rows x 4 columns]"
      ]
     },
     "execution_count": 3,
     "metadata": {},
     "output_type": "execute_result"
    }
   ],
   "source": [
    "# data.head(n=5)\n",
    "data"
   ]
  },
  {
   "cell_type": "markdown",
   "metadata": {},
   "source": [
    "## Describe Dataframe"
   ]
  },
  {
   "cell_type": "code",
   "execution_count": 4,
   "metadata": {},
   "outputs": [
    {
     "data": {
      "text/html": [
       "<div>\n",
       "<style scoped>\n",
       "    .dataframe tbody tr th:only-of-type {\n",
       "        vertical-align: middle;\n",
       "    }\n",
       "\n",
       "    .dataframe tbody tr th {\n",
       "        vertical-align: top;\n",
       "    }\n",
       "\n",
       "    .dataframe thead th {\n",
       "        text-align: right;\n",
       "    }\n",
       "</style>\n",
       "<table border=\"1\" class=\"dataframe\">\n",
       "  <thead>\n",
       "    <tr style=\"text-align: right;\">\n",
       "      <th></th>\n",
       "      <th>catechin_content</th>\n",
       "      <th>tpc</th>\n",
       "      <th>Ic_50</th>\n",
       "    </tr>\n",
       "  </thead>\n",
       "  <tbody>\n",
       "    <tr>\n",
       "      <th>count</th>\n",
       "      <td>63.00000</td>\n",
       "      <td>63.000000</td>\n",
       "      <td>21.000000</td>\n",
       "    </tr>\n",
       "    <tr>\n",
       "      <th>mean</th>\n",
       "      <td>253.81746</td>\n",
       "      <td>2.647619</td>\n",
       "      <td>90.442857</td>\n",
       "    </tr>\n",
       "    <tr>\n",
       "      <th>std</th>\n",
       "      <td>186.23658</td>\n",
       "      <td>1.345243</td>\n",
       "      <td>46.345934</td>\n",
       "    </tr>\n",
       "    <tr>\n",
       "      <th>min</th>\n",
       "      <td>10.80000</td>\n",
       "      <td>0.770000</td>\n",
       "      <td>68.200000</td>\n",
       "    </tr>\n",
       "    <tr>\n",
       "      <th>25%</th>\n",
       "      <td>82.75000</td>\n",
       "      <td>1.945000</td>\n",
       "      <td>71.000000</td>\n",
       "    </tr>\n",
       "    <tr>\n",
       "      <th>50%</th>\n",
       "      <td>246.50000</td>\n",
       "      <td>2.360000</td>\n",
       "      <td>73.500000</td>\n",
       "    </tr>\n",
       "    <tr>\n",
       "      <th>75%</th>\n",
       "      <td>415.75000</td>\n",
       "      <td>3.085000</td>\n",
       "      <td>81.600000</td>\n",
       "    </tr>\n",
       "    <tr>\n",
       "      <th>max</th>\n",
       "      <td>615.50000</td>\n",
       "      <td>7.310000</td>\n",
       "      <td>266.300000</td>\n",
       "    </tr>\n",
       "  </tbody>\n",
       "</table>\n",
       "</div>"
      ],
      "text/plain": [
       "       catechin_content        tpc       Ic_50\n",
       "count          63.00000  63.000000   21.000000\n",
       "mean          253.81746   2.647619   90.442857\n",
       "std           186.23658   1.345243   46.345934\n",
       "min            10.80000   0.770000   68.200000\n",
       "25%            82.75000   1.945000   71.000000\n",
       "50%           246.50000   2.360000   73.500000\n",
       "75%           415.75000   3.085000   81.600000\n",
       "max           615.50000   7.310000  266.300000"
      ]
     },
     "execution_count": 4,
     "metadata": {},
     "output_type": "execute_result"
    }
   ],
   "source": [
    "data.describe()"
   ]
  },
  {
   "cell_type": "markdown",
   "metadata": {},
   "source": [
    "## Description for individual groups\n",
    "Perform groupby on individual sample group and print descriptive statistics"
   ]
  },
  {
   "cell_type": "code",
   "execution_count": null,
   "metadata": {},
   "outputs": [],
   "source": [
    "# pd.DataFrame(group.describe().rename(columns={'catechin_content': sample}).squeeze() for sample, group in data.groupby('sample'))\n",
    "for sample, group in data.groupby('sample'):\n",
    "    print(group.describe().rename(columns={'catechin_content': sample}).squeeze())"
   ]
  },
  {
   "cell_type": "markdown",
   "metadata": {},
   "source": [
    "## View Variations of Catechin content on specific range"
   ]
  },
  {
   "cell_type": "code",
   "execution_count": 5,
   "metadata": {},
   "outputs": [
    {
     "data": {
      "text/plain": [
       "<matplotlib.axes._subplots.AxesSubplot at 0x7fb0763a1bb0>"
      ]
     },
     "execution_count": 5,
     "metadata": {},
     "output_type": "execute_result"
    },
    {
     "data": {
      "image/png": "[encoded data removed]",
      "text/plain": [
       "<Figure size 432x288 with 1 Axes>"
      ]
     },
     "metadata": {
      "needs_background": "light"
     },
     "output_type": "display_data"
    }
   ],
   "source": [
    "# data.boxplot(by='sample', column =['catechin_content'], grid=False)\n",
    "# data[data['catechin_content'] > 400].boxplot(column='catechin_content', by='sample', grid=False)\n",
    "data[(data['catechin_content'] >= 400) & (data['catechin_content'] <= 450)].boxplot(column='catechin_content', by='sample', grid=False)"
   ]
  },
  {
   "cell_type": "markdown",
   "metadata": {},
   "source": [
    "## OLS Model\n",
    "Construct a Ordinary Least Squares (OLS) model"
   ]
  },
  {
   "cell_type": "code",
   "execution_count": 6,
   "metadata": {},
   "outputs": [],
   "source": [
    "model = ols('catechin_content ~ C(sample)', data=data).fit()"
   ]
  },
  {
   "cell_type": "markdown",
   "metadata": {},
   "source": [
    "## Perform Oneway ANOVA and print ANOVA table"
   ]
  },
  {
   "cell_type": "code",
   "execution_count": 7,
   "metadata": {},
   "outputs": [
    {
     "data": {
      "text/html": [
       "<div>\n",
       "<style scoped>\n",
       "    .dataframe tbody tr th:only-of-type {\n",
       "        vertical-align: middle;\n",
       "    }\n",
       "\n",
       "    .dataframe tbody tr th {\n",
       "        vertical-align: top;\n",
       "    }\n",
       "\n",
       "    .dataframe thead th {\n",
       "        text-align: right;\n",
       "    }\n",
       "</style>\n",
       "<table border=\"1\" class=\"dataframe\">\n",
       "  <thead>\n",
       "    <tr style=\"text-align: right;\">\n",
       "      <th></th>\n",
       "      <th>sum_sq</th>\n",
       "      <th>df</th>\n",
       "      <th>F</th>\n",
       "      <th>PR(&gt;F)</th>\n",
       "    </tr>\n",
       "  </thead>\n",
       "  <tbody>\n",
       "    <tr>\n",
       "      <th>C(sample)</th>\n",
       "      <td>2.150372e+06</td>\n",
       "      <td>20.0</td>\n",
       "      <td>112819.313141</td>\n",
       "      <td>6.635393e-93</td>\n",
       "    </tr>\n",
       "    <tr>\n",
       "      <th>Residual</th>\n",
       "      <td>4.002667e+01</td>\n",
       "      <td>42.0</td>\n",
       "      <td>NaN</td>\n",
       "      <td>NaN</td>\n",
       "    </tr>\n",
       "  </tbody>\n",
       "</table>\n",
       "</div>"
      ],
      "text/plain": [
       "                 sum_sq    df              F        PR(>F)\n",
       "C(sample)  2.150372e+06  20.0  112819.313141  6.635393e-93\n",
       "Residual   4.002667e+01  42.0            NaN           NaN"
      ]
     },
     "execution_count": 7,
     "metadata": {},
     "output_type": "execute_result"
    }
   ],
   "source": [
    "anova_table = sm.stats.anova_lm(model, typ=2)\n",
    "anova_table"
   ]
  },
  {
   "cell_type": "markdown",
   "metadata": {},
   "source": [
    "# Perform Oneway ANOVA using Scipy library"
   ]
  },
  {
   "cell_type": "code",
   "execution_count": 8,
   "metadata": {},
   "outputs": [],
   "source": [
    "import scipy.stats as stats"
   ]
  },
  {
   "cell_type": "code",
   "execution_count": 9,
   "metadata": {},
   "outputs": [
    {
     "data": {
      "text/html": [
       "<div>\n",
       "<style scoped>\n",
       "    .dataframe tbody tr th:only-of-type {\n",
       "        vertical-align: middle;\n",
       "    }\n",
       "\n",
       "    .dataframe tbody tr th {\n",
       "        vertical-align: top;\n",
       "    }\n",
       "\n",
       "    .dataframe thead th {\n",
       "        text-align: right;\n",
       "    }\n",
       "</style>\n",
       "<table border=\"1\" class=\"dataframe\">\n",
       "  <thead>\n",
       "    <tr style=\"text-align: right;\">\n",
       "      <th></th>\n",
       "      <th>sample</th>\n",
       "      <th>catechin_content</th>\n",
       "    </tr>\n",
       "  </thead>\n",
       "  <tbody>\n",
       "    <tr>\n",
       "      <th>0</th>\n",
       "      <td>Black beans</td>\n",
       "      <td>14.1</td>\n",
       "    </tr>\n",
       "    <tr>\n",
       "      <th>1</th>\n",
       "      <td>Black beans</td>\n",
       "      <td>16.0</td>\n",
       "    </tr>\n",
       "    <tr>\n",
       "      <th>2</th>\n",
       "      <td>Black beans</td>\n",
       "      <td>14.4</td>\n",
       "    </tr>\n",
       "    <tr>\n",
       "      <th>3</th>\n",
       "      <td>Black chickpeas</td>\n",
       "      <td>187.1</td>\n",
       "    </tr>\n",
       "    <tr>\n",
       "      <th>4</th>\n",
       "      <td>Black chickpeas</td>\n",
       "      <td>189.6</td>\n",
       "    </tr>\n",
       "    <tr>\n",
       "      <th>...</th>\n",
       "      <td>...</td>\n",
       "      <td>...</td>\n",
       "    </tr>\n",
       "    <tr>\n",
       "      <th>58</th>\n",
       "      <td>Stregoni beans</td>\n",
       "      <td>459.8</td>\n",
       "    </tr>\n",
       "    <tr>\n",
       "      <th>59</th>\n",
       "      <td>Stregoni beans</td>\n",
       "      <td>458.2</td>\n",
       "    </tr>\n",
       "    <tr>\n",
       "      <th>60</th>\n",
       "      <td>Verdolino beans</td>\n",
       "      <td>82.7</td>\n",
       "    </tr>\n",
       "    <tr>\n",
       "      <th>61</th>\n",
       "      <td>Verdolino beans</td>\n",
       "      <td>83.9</td>\n",
       "    </tr>\n",
       "    <tr>\n",
       "      <th>62</th>\n",
       "      <td>Verdolino beans</td>\n",
       "      <td>82.8</td>\n",
       "    </tr>\n",
       "  </tbody>\n",
       "</table>\n",
       "<p>63 rows × 2 columns</p>\n",
       "</div>"
      ],
      "text/plain": [
       "             sample  catechin_content\n",
       "0       Black beans              14.1\n",
       "1       Black beans              16.0\n",
       "2       Black beans              14.4\n",
       "3   Black chickpeas             187.1\n",
       "4   Black chickpeas             189.6\n",
       "..              ...               ...\n",
       "58   Stregoni beans             459.8\n",
       "59   Stregoni beans             458.2\n",
       "60  Verdolino beans              82.7\n",
       "61  Verdolino beans              83.9\n",
       "62  Verdolino beans              82.8\n",
       "\n",
       "[63 rows x 2 columns]"
      ]
     },
     "execution_count": 9,
     "metadata": {},
     "output_type": "execute_result"
    }
   ],
   "source": [
    "data_catechin = data[['sample', 'catechin_content']]\n",
    "data_catechin"
   ]
  },
  {
   "cell_type": "markdown",
   "metadata": {},
   "source": [
    "# Transform the dataframe to pivot form"
   ]
  },
  {
   "cell_type": "code",
   "execution_count": 12,
   "metadata": {},
   "outputs": [
    {
     "data": {
      "text/html": [
       "<div>\n",
       "<style scoped>\n",
       "    .dataframe tbody tr th:only-of-type {\n",
       "        vertical-align: middle;\n",
       "    }\n",
       "\n",
       "    .dataframe tbody tr th {\n",
       "        vertical-align: top;\n",
       "    }\n",
       "\n",
       "    .dataframe thead th {\n",
       "        text-align: right;\n",
       "    }\n",
       "</style>\n",
       "<table border=\"1\" class=\"dataframe\">\n",
       "  <thead>\n",
       "    <tr style=\"text-align: right;\">\n",
       "      <th></th>\n",
       "      <th>Black beans</th>\n",
       "      <th>Black chickpeas</th>\n",
       "      <th>Black lentils</th>\n",
       "      <th>Broad beans</th>\n",
       "      <th>Brown beans</th>\n",
       "      <th>Brown lentils</th>\n",
       "      <th>Colfiorito lentils</th>\n",
       "      <th>Cramberry beans</th>\n",
       "      <th>Crimson lentils</th>\n",
       "      <th>Dehulled eston lentils</th>\n",
       "      <th>...</th>\n",
       "      <th>Eston lentils</th>\n",
       "      <th>Kabuli chickpeas</th>\n",
       "      <th>Laird lentils</th>\n",
       "      <th>Pavoni beans</th>\n",
       "      <th>Pinto beans</th>\n",
       "      <th>Red kidney beans</th>\n",
       "      <th>Ruviotto beans</th>\n",
       "      <th>Saluggia beans</th>\n",
       "      <th>Stregoni beans</th>\n",
       "      <th>Verdolino beans</th>\n",
       "    </tr>\n",
       "  </thead>\n",
       "  <tbody>\n",
       "    <tr>\n",
       "      <th>0</th>\n",
       "      <td>14.1</td>\n",
       "      <td>187.1</td>\n",
       "      <td>246.5</td>\n",
       "      <td>455.6</td>\n",
       "      <td>10.8</td>\n",
       "      <td>118.9</td>\n",
       "      <td>415.1</td>\n",
       "      <td>614.3</td>\n",
       "      <td>402.4</td>\n",
       "      <td>85.3</td>\n",
       "      <td>...</td>\n",
       "      <td>478.4</td>\n",
       "      <td>31.8</td>\n",
       "      <td>520.1</td>\n",
       "      <td>302.9</td>\n",
       "      <td>322.3</td>\n",
       "      <td>60.6</td>\n",
       "      <td>61.6</td>\n",
       "      <td>279.2</td>\n",
       "      <td>457.9</td>\n",
       "      <td>82.7</td>\n",
       "    </tr>\n",
       "    <tr>\n",
       "      <th>1</th>\n",
       "      <td>16.0</td>\n",
       "      <td>189.6</td>\n",
       "      <td>247.9</td>\n",
       "      <td>457.9</td>\n",
       "      <td>12.4</td>\n",
       "      <td>120.4</td>\n",
       "      <td>416.4</td>\n",
       "      <td>615.5</td>\n",
       "      <td>403.8</td>\n",
       "      <td>87.1</td>\n",
       "      <td>...</td>\n",
       "      <td>480.8</td>\n",
       "      <td>33.6</td>\n",
       "      <td>522.1</td>\n",
       "      <td>304.1</td>\n",
       "      <td>323.4</td>\n",
       "      <td>62.8</td>\n",
       "      <td>63.3</td>\n",
       "      <td>280.9</td>\n",
       "      <td>459.8</td>\n",
       "      <td>83.9</td>\n",
       "    </tr>\n",
       "    <tr>\n",
       "      <th>2</th>\n",
       "      <td>14.4</td>\n",
       "      <td>187.8</td>\n",
       "      <td>246.3</td>\n",
       "      <td>456.0</td>\n",
       "      <td>11.0</td>\n",
       "      <td>119.1</td>\n",
       "      <td>414.6</td>\n",
       "      <td>614.3</td>\n",
       "      <td>402.1</td>\n",
       "      <td>86.0</td>\n",
       "      <td>...</td>\n",
       "      <td>479.0</td>\n",
       "      <td>31.9</td>\n",
       "      <td>520.4</td>\n",
       "      <td>302.3</td>\n",
       "      <td>321.8</td>\n",
       "      <td>61.3</td>\n",
       "      <td>61.4</td>\n",
       "      <td>279.2</td>\n",
       "      <td>458.2</td>\n",
       "      <td>82.8</td>\n",
       "    </tr>\n",
       "  </tbody>\n",
       "</table>\n",
       "<p>3 rows × 21 columns</p>\n",
       "</div>"
      ],
      "text/plain": [
       "   Black beans  Black chickpeas  Black lentils  Broad beans  Brown beans  \\\n",
       "0         14.1            187.1          246.5        455.6         10.8   \n",
       "1         16.0            189.6          247.9        457.9         12.4   \n",
       "2         14.4            187.8          246.3        456.0         11.0   \n",
       "\n",
       "   Brown lentils  Colfiorito lentils  Cramberry beans  Crimson lentils  \\\n",
       "0          118.9               415.1            614.3            402.4   \n",
       "1          120.4               416.4            615.5            403.8   \n",
       "2          119.1               414.6            614.3            402.1   \n",
       "\n",
       "   Dehulled eston lentils  ...  Eston lentils  Kabuli chickpeas  \\\n",
       "0                    85.3  ...          478.4              31.8   \n",
       "1                    87.1  ...          480.8              33.6   \n",
       "2                    86.0  ...          479.0              31.9   \n",
       "\n",
       "   Laird lentils  Pavoni beans  Pinto beans  Red kidney beans  Ruviotto beans  \\\n",
       "0          520.1         302.9        322.3              60.6            61.6   \n",
       "1          522.1         304.1        323.4              62.8            63.3   \n",
       "2          520.4         302.3        321.8              61.3            61.4   \n",
       "\n",
       "   Saluggia beans  Stregoni beans  Verdolino beans  \n",
       "0           279.2           457.9             82.7  \n",
       "1           280.9           459.8             83.9  \n",
       "2           279.2           458.2             82.8  \n",
       "\n",
       "[3 rows x 21 columns]"
      ]
     },
     "execution_count": 12,
     "metadata": {},
     "output_type": "execute_result"
    }
   ],
   "source": [
    "#data_catechin.pivot(columns='sample', values='catechin_content')\n",
    "data_catechin_pivot = pd.concat({k: g.reset_index(drop=True) for k, g in data_catechin.groupby('sample')['catechin_content']}, axis=1)\n",
    "data_catechin_pivot"
   ]
  },
  {
   "cell_type": "markdown",
   "metadata": {},
   "source": [
    "### View Columns"
   ]
  },
  {
   "cell_type": "code",
   "execution_count": 15,
   "metadata": {},
   "outputs": [
    {
     "data": {
      "text/plain": [
       "Index(['Black beans', 'Black chickpeas', 'Black lentils', 'Broad beans',\n",
       "       'Brown beans', 'Brown lentils', 'Colfiorito lentils', 'Cramberry beans',\n",
       "       'Crimson lentils', 'Dehulled eston lentils', 'Diavoli beans',\n",
       "       'Eston lentils', 'Kabuli chickpeas', 'Laird lentils', 'Pavoni beans',\n",
       "       'Pinto beans', 'Red kidney beans', 'Ruviotto beans', 'Saluggia beans',\n",
       "       'Stregoni beans', 'Verdolino beans'],\n",
       "      dtype='object')"
      ]
     },
     "execution_count": 15,
     "metadata": {},
     "output_type": "execute_result"
    }
   ],
   "source": [
    "data_catechin_pivot.columns"
   ]
  },
  {
   "cell_type": "code",
   "execution_count": null,
   "metadata": {},
   "outputs": [],
   "source": [
    "### Manually perform oneway anova between groups"
   ]
  },
  {
   "cell_type": "code",
   "execution_count": 16,
   "metadata": {},
   "outputs": [],
   "source": [
    "fvalue, pvalue = stats.f_oneway(data_catechin_pivot['Black beans'], data_catechin_pivot['Black chickpeas'], data_catechin_pivot['Black lentils'])"
   ]
  },
  {
   "cell_type": "code",
   "execution_count": 17,
   "metadata": {},
   "outputs": [
    {
     "data": {
      "text/plain": [
       "37795.23461522067"
      ]
     },
     "execution_count": 17,
     "metadata": {},
     "output_type": "execute_result"
    }
   ],
   "source": [
    "fvalue"
   ]
  },
  {
   "cell_type": "code",
   "execution_count": 18,
   "metadata": {},
   "outputs": [
    {
     "data": {
      "text/plain": [
       "4.999760659952581e-13"
      ]
     },
     "execution_count": 18,
     "metadata": {},
     "output_type": "execute_result"
    }
   ],
   "source": [
    "pvalue"
   ]
  },
  {
   "cell_type": "markdown",
   "metadata": {},
   "source": [
    "# Tukey HSD Test\n",
    "Following example will use pinguin library to compute Tukey highest significance difference test"
   ]
  },
  {
   "cell_type": "code",
   "execution_count": 20,
   "metadata": {},
   "outputs": [],
   "source": [
    "from pingouin import pairwise_tukey"
   ]
  },
  {
   "cell_type": "code",
   "execution_count": 21,
   "metadata": {},
   "outputs": [
    {
     "data": {
      "text/html": [
       "<div>\n",
       "<style scoped>\n",
       "    .dataframe tbody tr th:only-of-type {\n",
       "        vertical-align: middle;\n",
       "    }\n",
       "\n",
       "    .dataframe tbody tr th {\n",
       "        vertical-align: top;\n",
       "    }\n",
       "\n",
       "    .dataframe thead th {\n",
       "        text-align: right;\n",
       "    }\n",
       "</style>\n",
       "<table border=\"1\" class=\"dataframe\">\n",
       "  <thead>\n",
       "    <tr style=\"text-align: right;\">\n",
       "      <th></th>\n",
       "      <th>A</th>\n",
       "      <th>B</th>\n",
       "      <th>mean(A)</th>\n",
       "      <th>mean(B)</th>\n",
       "      <th>diff</th>\n",
       "      <th>se</th>\n",
       "      <th>T</th>\n",
       "      <th>p-tukey</th>\n",
       "      <th>hedges</th>\n",
       "    </tr>\n",
       "  </thead>\n",
       "  <tbody>\n",
       "    <tr>\n",
       "      <th>0</th>\n",
       "      <td>Black beans</td>\n",
       "      <td>Black chickpeas</td>\n",
       "      <td>14.833333</td>\n",
       "      <td>188.166667</td>\n",
       "      <td>-173.333333</td>\n",
       "      <td>0.797085</td>\n",
       "      <td>-217.459133</td>\n",
       "      <td>0.001000</td>\n",
       "      <td>-142.043711</td>\n",
       "    </tr>\n",
       "    <tr>\n",
       "      <th>1</th>\n",
       "      <td>Black beans</td>\n",
       "      <td>Black lentils</td>\n",
       "      <td>14.833333</td>\n",
       "      <td>246.900000</td>\n",
       "      <td>-232.066667</td>\n",
       "      <td>0.797085</td>\n",
       "      <td>-291.144323</td>\n",
       "      <td>0.001000</td>\n",
       "      <td>-190.174676</td>\n",
       "    </tr>\n",
       "    <tr>\n",
       "      <th>2</th>\n",
       "      <td>Black beans</td>\n",
       "      <td>Broad beans</td>\n",
       "      <td>14.833333</td>\n",
       "      <td>456.500000</td>\n",
       "      <td>-441.666667</td>\n",
       "      <td>0.797085</td>\n",
       "      <td>-554.102597</td>\n",
       "      <td>0.001000</td>\n",
       "      <td>-361.938301</td>\n",
       "    </tr>\n",
       "    <tr>\n",
       "      <th>3</th>\n",
       "      <td>Black beans</td>\n",
       "      <td>Brown beans</td>\n",
       "      <td>14.833333</td>\n",
       "      <td>11.400000</td>\n",
       "      <td>3.433333</td>\n",
       "      <td>0.797085</td>\n",
       "      <td>4.307364</td>\n",
       "      <td>0.006832</td>\n",
       "      <td>2.813558</td>\n",
       "    </tr>\n",
       "    <tr>\n",
       "      <th>4</th>\n",
       "      <td>Black beans</td>\n",
       "      <td>Brown lentils</td>\n",
       "      <td>14.833333</td>\n",
       "      <td>119.466667</td>\n",
       "      <td>-104.633333</td>\n",
       "      <td>0.797085</td>\n",
       "      <td>-131.270042</td>\n",
       "      <td>0.001000</td>\n",
       "      <td>-85.745232</td>\n",
       "    </tr>\n",
       "    <tr>\n",
       "      <th>...</th>\n",
       "      <td>...</td>\n",
       "      <td>...</td>\n",
       "      <td>...</td>\n",
       "      <td>...</td>\n",
       "      <td>...</td>\n",
       "      <td>...</td>\n",
       "      <td>...</td>\n",
       "      <td>...</td>\n",
       "      <td>...</td>\n",
       "    </tr>\n",
       "    <tr>\n",
       "      <th>205</th>\n",
       "      <td>Ruviotto beans</td>\n",
       "      <td>Stregoni beans</td>\n",
       "      <td>62.100000</td>\n",
       "      <td>458.633333</td>\n",
       "      <td>-396.533333</td>\n",
       "      <td>0.797085</td>\n",
       "      <td>-497.479585</td>\n",
       "      <td>0.001000</td>\n",
       "      <td>-324.952304</td>\n",
       "    </tr>\n",
       "    <tr>\n",
       "      <th>206</th>\n",
       "      <td>Ruviotto beans</td>\n",
       "      <td>Verdolino beans</td>\n",
       "      <td>62.100000</td>\n",
       "      <td>83.133333</td>\n",
       "      <td>-21.033333</td>\n",
       "      <td>0.797085</td>\n",
       "      <td>-26.387829</td>\n",
       "      <td>0.001000</td>\n",
       "      <td>-17.236458</td>\n",
       "    </tr>\n",
       "    <tr>\n",
       "      <th>207</th>\n",
       "      <td>Saluggia beans</td>\n",
       "      <td>Stregoni beans</td>\n",
       "      <td>279.766667</td>\n",
       "      <td>458.633333</td>\n",
       "      <td>-178.866667</td>\n",
       "      <td>0.797085</td>\n",
       "      <td>-224.401097</td>\n",
       "      <td>0.001000</td>\n",
       "      <td>-146.578183</td>\n",
       "    </tr>\n",
       "    <tr>\n",
       "      <th>208</th>\n",
       "      <td>Saluggia beans</td>\n",
       "      <td>Verdolino beans</td>\n",
       "      <td>279.766667</td>\n",
       "      <td>83.133333</td>\n",
       "      <td>196.633333</td>\n",
       "      <td>0.797085</td>\n",
       "      <td>246.690658</td>\n",
       "      <td>0.001000</td>\n",
       "      <td>161.137663</td>\n",
       "    </tr>\n",
       "    <tr>\n",
       "      <th>209</th>\n",
       "      <td>Stregoni beans</td>\n",
       "      <td>Verdolino beans</td>\n",
       "      <td>458.633333</td>\n",
       "      <td>83.133333</td>\n",
       "      <td>375.500000</td>\n",
       "      <td>0.797085</td>\n",
       "      <td>471.091756</td>\n",
       "      <td>0.001000</td>\n",
       "      <td>307.715846</td>\n",
       "    </tr>\n",
       "  </tbody>\n",
       "</table>\n",
       "<p>210 rows × 9 columns</p>\n",
       "</div>"
      ],
      "text/plain": [
       "                  A                B     mean(A)     mean(B)        diff  \\\n",
       "0       Black beans  Black chickpeas   14.833333  188.166667 -173.333333   \n",
       "1       Black beans    Black lentils   14.833333  246.900000 -232.066667   \n",
       "2       Black beans      Broad beans   14.833333  456.500000 -441.666667   \n",
       "3       Black beans      Brown beans   14.833333   11.400000    3.433333   \n",
       "4       Black beans    Brown lentils   14.833333  119.466667 -104.633333   \n",
       "..              ...              ...         ...         ...         ...   \n",
       "205  Ruviotto beans   Stregoni beans   62.100000  458.633333 -396.533333   \n",
       "206  Ruviotto beans  Verdolino beans   62.100000   83.133333  -21.033333   \n",
       "207  Saluggia beans   Stregoni beans  279.766667  458.633333 -178.866667   \n",
       "208  Saluggia beans  Verdolino beans  279.766667   83.133333  196.633333   \n",
       "209  Stregoni beans  Verdolino beans  458.633333   83.133333  375.500000   \n",
       "\n",
       "           se           T   p-tukey      hedges  \n",
       "0    0.797085 -217.459133  0.001000 -142.043711  \n",
       "1    0.797085 -291.144323  0.001000 -190.174676  \n",
       "2    0.797085 -554.102597  0.001000 -361.938301  \n",
       "3    0.797085    4.307364  0.006832    2.813558  \n",
       "4    0.797085 -131.270042  0.001000  -85.745232  \n",
       "..        ...         ...       ...         ...  \n",
       "205  0.797085 -497.479585  0.001000 -324.952304  \n",
       "206  0.797085  -26.387829  0.001000  -17.236458  \n",
       "207  0.797085 -224.401097  0.001000 -146.578183  \n",
       "208  0.797085  246.690658  0.001000  161.137663  \n",
       "209  0.797085  471.091756  0.001000  307.715846  \n",
       "\n",
       "[210 rows x 9 columns]"
      ]
     },
     "execution_count": 21,
     "metadata": {},
     "output_type": "execute_result"
    }
   ],
   "source": [
    "m_comp = pairwise_tukey(data=data, dv='catechin_content', between='sample')\n",
    "m_comp"
   ]
  },
  {
   "cell_type": "markdown",
   "metadata": {},
   "source": [
    "# Test ANOVA assumptions\n",
    "Following example will perform Shapiro Wilks Test and Levene or Bartlett Test on the OLS model"
   ]
  },
  {
   "cell_type": "code",
   "execution_count": 22,
   "metadata": {},
   "outputs": [],
   "source": [
    "import scipy.stats as stats"
   ]
  },
  {
   "cell_type": "code",
   "execution_count": 27,
   "metadata": {},
   "outputs": [
    {
     "name": "stdout",
     "output_type": "stream",
     "text": [
      "0.8247541785240173 0.00000036\n"
     ]
    }
   ],
   "source": [
    "w, pvalue = stats.shapiro(model.resid)\n",
    "print(w, format(pvalue, '.8f'))"
   ]
  },
  {
   "cell_type": "markdown",
   "metadata": {},
   "source": [
    "The **Shapiro-Wilk test** can be used to check the normal distribution of residuals where **Null hypothesis** is data is drawn from normal distribution. As the P-value is significant, we reject the null hypothesis and conclude that data is not drawn from normal distribution.\n",
    "\n",
    "As data is not drawn from normal distribution, **Levene test** can be used to check the Homogeneity of variances Null hypothesis is samples from land races of pulses have equal variances."
   ]
  },
  {
   "cell_type": "code",
   "execution_count": 28,
   "metadata": {},
   "outputs": [
    {
     "name": "stdout",
     "output_type": "stream",
     "text": [
      "0.06690176322417939 0.9999999866012517\n"
     ]
    }
   ],
   "source": [
    "# w, pvalue = stats.levene(data_catechin_pivot['Black beans'], data_catechin_pivot['Black chickpeas'], data_catechin_pivot['Black lentils'], ...)\n",
    "w, pvalue = stats.levene(*(data_catechin_pivot[col] for col in data_catechin_pivot.columns))\n",
    "print(w, pvalue)"
   ]
  },
  {
   "cell_type": "markdown",
   "metadata": {},
   "source": [
    "As the P-value is non significant, we fail to reject null hypothesis and conclude that samples have equal variances.\n",
    "\n",
    "If the data is drawn from normal distribution, use **Bartlett’s test** to check the Homogeneity of variances where"
   ]
  },
  {
   "cell_type": "code",
   "execution_count": null,
   "metadata": {},
   "outputs": [],
   "source": [
    "# w, pvalue = stats.bartlett(data_catechin_pivot['Black beans'], data_catechin_pivot['Black chickpeas'], data_catechin_pivot['Black lentils'], ...)\n",
    "# w, pvalue = stats.bartlett(*(data_catechin_pivot[col] for col in data_catechin_pivot.columns))\n",
    "# print(w, pvalue)"
   ]
  }
 ],
 "metadata": {
  "kernelspec": {
   "display_name": "Python [conda env:root] *",
   "language": "python",
   "name": "conda-root-py"
  },
  "language_info": {
   "codemirror_mode": {
    "name": "ipython",
    "version": 3
   },
   "file_extension": ".py",
   "mimetype": "text/x-python",
   "name": "python",
   "nbconvert_exporter": "python",
   "pygments_lexer": "ipython3",
   "version": "3.8.1"
  }
 },
 "nbformat": 4,
 "nbformat_minor": 4
}
