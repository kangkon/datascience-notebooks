{
 "cells": [
  {
   "cell_type": "markdown",
   "metadata": {},
   "source": [
    "# Correlation"
   ]
  },
  {
   "cell_type": "code",
   "execution_count": 3,
   "metadata": {},
   "outputs": [],
   "source": [
    "from scipy import stats\n",
    "import pandas as pd"
   ]
  },
  {
   "cell_type": "code",
   "execution_count": 4,
   "metadata": {},
   "outputs": [],
   "source": [
    "data = pd.read_csv(\"../datasets/pulses-data.csv\",)"
   ]
  },
  {
   "cell_type": "code",
   "execution_count": 5,
   "metadata": {},
   "outputs": [
    {
     "data": {
      "text/html": [
       "<div>\n",
       "<style scoped>\n",
       "    .dataframe tbody tr th:only-of-type {\n",
       "        vertical-align: middle;\n",
       "    }\n",
       "\n",
       "    .dataframe tbody tr th {\n",
       "        vertical-align: top;\n",
       "    }\n",
       "\n",
       "    .dataframe thead th {\n",
       "        text-align: right;\n",
       "    }\n",
       "</style>\n",
       "<table border=\"1\" class=\"dataframe\">\n",
       "  <thead>\n",
       "    <tr style=\"text-align: right;\">\n",
       "      <th></th>\n",
       "      <th>sample</th>\n",
       "      <th>catechin_content</th>\n",
       "      <th>tpc</th>\n",
       "      <th>Ic_50</th>\n",
       "    </tr>\n",
       "  </thead>\n",
       "  <tbody>\n",
       "    <tr>\n",
       "      <th>0</th>\n",
       "      <td>Black beans</td>\n",
       "      <td>14.1</td>\n",
       "      <td>3.40</td>\n",
       "      <td>97.3</td>\n",
       "    </tr>\n",
       "    <tr>\n",
       "      <th>1</th>\n",
       "      <td>Black beans</td>\n",
       "      <td>16.0</td>\n",
       "      <td>3.64</td>\n",
       "      <td>NaN</td>\n",
       "    </tr>\n",
       "    <tr>\n",
       "      <th>2</th>\n",
       "      <td>Black beans</td>\n",
       "      <td>14.4</td>\n",
       "      <td>3.15</td>\n",
       "      <td>NaN</td>\n",
       "    </tr>\n",
       "    <tr>\n",
       "      <th>3</th>\n",
       "      <td>Black chickpeas</td>\n",
       "      <td>187.1</td>\n",
       "      <td>1.20</td>\n",
       "      <td>125.1</td>\n",
       "    </tr>\n",
       "    <tr>\n",
       "      <th>4</th>\n",
       "      <td>Black chickpeas</td>\n",
       "      <td>189.6</td>\n",
       "      <td>1.31</td>\n",
       "      <td>NaN</td>\n",
       "    </tr>\n",
       "    <tr>\n",
       "      <th>...</th>\n",
       "      <td>...</td>\n",
       "      <td>...</td>\n",
       "      <td>...</td>\n",
       "      <td>...</td>\n",
       "    </tr>\n",
       "    <tr>\n",
       "      <th>58</th>\n",
       "      <td>Stregoni beans</td>\n",
       "      <td>459.8</td>\n",
       "      <td>2.36</td>\n",
       "      <td>NaN</td>\n",
       "    </tr>\n",
       "    <tr>\n",
       "      <th>59</th>\n",
       "      <td>Stregoni beans</td>\n",
       "      <td>458.2</td>\n",
       "      <td>1.99</td>\n",
       "      <td>NaN</td>\n",
       "    </tr>\n",
       "    <tr>\n",
       "      <th>60</th>\n",
       "      <td>Verdolino beans</td>\n",
       "      <td>82.7</td>\n",
       "      <td>3.44</td>\n",
       "      <td>68.8</td>\n",
       "    </tr>\n",
       "    <tr>\n",
       "      <th>61</th>\n",
       "      <td>Verdolino beans</td>\n",
       "      <td>83.9</td>\n",
       "      <td>3.57</td>\n",
       "      <td>NaN</td>\n",
       "    </tr>\n",
       "    <tr>\n",
       "      <th>62</th>\n",
       "      <td>Verdolino beans</td>\n",
       "      <td>82.8</td>\n",
       "      <td>3.32</td>\n",
       "      <td>NaN</td>\n",
       "    </tr>\n",
       "  </tbody>\n",
       "</table>\n",
       "<p>63 rows × 4 columns</p>\n",
       "</div>"
      ],
      "text/plain": [
       "             sample  catechin_content   tpc  Ic_50\n",
       "0       Black beans              14.1  3.40   97.3\n",
       "1       Black beans              16.0  3.64    NaN\n",
       "2       Black beans              14.4  3.15    NaN\n",
       "3   Black chickpeas             187.1  1.20  125.1\n",
       "4   Black chickpeas             189.6  1.31    NaN\n",
       "..              ...               ...   ...    ...\n",
       "58   Stregoni beans             459.8  2.36    NaN\n",
       "59   Stregoni beans             458.2  1.99    NaN\n",
       "60  Verdolino beans              82.7  3.44   68.8\n",
       "61  Verdolino beans              83.9  3.57    NaN\n",
       "62  Verdolino beans              82.8  3.32    NaN\n",
       "\n",
       "[63 rows x 4 columns]"
      ]
     },
     "execution_count": 5,
     "metadata": {},
     "output_type": "execute_result"
    }
   ],
   "source": [
    "data"
   ]
  },
  {
   "cell_type": "code",
   "execution_count": 10,
   "metadata": {},
   "outputs": [
    {
     "data": {
      "text/html": [
       "<div>\n",
       "<style scoped>\n",
       "    .dataframe tbody tr th:only-of-type {\n",
       "        vertical-align: middle;\n",
       "    }\n",
       "\n",
       "    .dataframe tbody tr th {\n",
       "        vertical-align: top;\n",
       "    }\n",
       "\n",
       "    .dataframe thead th {\n",
       "        text-align: right;\n",
       "    }\n",
       "</style>\n",
       "<table border=\"1\" class=\"dataframe\">\n",
       "  <thead>\n",
       "    <tr style=\"text-align: right;\">\n",
       "      <th></th>\n",
       "      <th>catechin_content</th>\n",
       "      <th>tpc</th>\n",
       "      <th>Ic_50</th>\n",
       "    </tr>\n",
       "    <tr>\n",
       "      <th>sample</th>\n",
       "      <th></th>\n",
       "      <th></th>\n",
       "      <th></th>\n",
       "    </tr>\n",
       "  </thead>\n",
       "  <tbody>\n",
       "    <tr>\n",
       "      <th>Black beans</th>\n",
       "      <td>14.833333</td>\n",
       "      <td>3.396667</td>\n",
       "      <td>97.3</td>\n",
       "    </tr>\n",
       "    <tr>\n",
       "      <th>Black chickpeas</th>\n",
       "      <td>188.166667</td>\n",
       "      <td>1.186667</td>\n",
       "      <td>125.1</td>\n",
       "    </tr>\n",
       "    <tr>\n",
       "      <th>Black lentils</th>\n",
       "      <td>246.900000</td>\n",
       "      <td>4.526667</td>\n",
       "      <td>68.2</td>\n",
       "    </tr>\n",
       "    <tr>\n",
       "      <th>Broad beans</th>\n",
       "      <td>456.500000</td>\n",
       "      <td>1.980000</td>\n",
       "      <td>68.3</td>\n",
       "    </tr>\n",
       "    <tr>\n",
       "      <th>Brown beans</th>\n",
       "      <td>11.400000</td>\n",
       "      <td>1.993333</td>\n",
       "      <td>73.3</td>\n",
       "    </tr>\n",
       "    <tr>\n",
       "      <th>Brown lentils</th>\n",
       "      <td>119.466667</td>\n",
       "      <td>1.423333</td>\n",
       "      <td>71.0</td>\n",
       "    </tr>\n",
       "    <tr>\n",
       "      <th>Colfiorito lentils</th>\n",
       "      <td>415.366667</td>\n",
       "      <td>2.556667</td>\n",
       "      <td>81.6</td>\n",
       "    </tr>\n",
       "    <tr>\n",
       "      <th>Cramberry beans</th>\n",
       "      <td>614.700000</td>\n",
       "      <td>2.193333</td>\n",
       "      <td>76.0</td>\n",
       "    </tr>\n",
       "    <tr>\n",
       "      <th>Crimson lentils</th>\n",
       "      <td>402.766667</td>\n",
       "      <td>2.356667</td>\n",
       "      <td>74.0</td>\n",
       "    </tr>\n",
       "    <tr>\n",
       "      <th>Dehulled eston lentils</th>\n",
       "      <td>86.133333</td>\n",
       "      <td>1.400000</td>\n",
       "      <td>164.5</td>\n",
       "    </tr>\n",
       "    <tr>\n",
       "      <th>Diavoli beans</th>\n",
       "      <td>170.433333</td>\n",
       "      <td>7.140000</td>\n",
       "      <td>68.9</td>\n",
       "    </tr>\n",
       "    <tr>\n",
       "      <th>Eston lentils</th>\n",
       "      <td>479.400000</td>\n",
       "      <td>2.163333</td>\n",
       "      <td>79.6</td>\n",
       "    </tr>\n",
       "    <tr>\n",
       "      <th>Kabuli chickpeas</th>\n",
       "      <td>32.433333</td>\n",
       "      <td>0.893333</td>\n",
       "      <td>266.3</td>\n",
       "    </tr>\n",
       "    <tr>\n",
       "      <th>Laird lentils</th>\n",
       "      <td>520.866667</td>\n",
       "      <td>2.420000</td>\n",
       "      <td>73.5</td>\n",
       "    </tr>\n",
       "    <tr>\n",
       "      <th>Pavoni beans</th>\n",
       "      <td>303.100000</td>\n",
       "      <td>3.850000</td>\n",
       "      <td>75.1</td>\n",
       "    </tr>\n",
       "    <tr>\n",
       "      <th>Pinto beans</th>\n",
       "      <td>322.500000</td>\n",
       "      <td>2.016667</td>\n",
       "      <td>81.8</td>\n",
       "    </tr>\n",
       "    <tr>\n",
       "      <th>Red kidney beans</th>\n",
       "      <td>61.566667</td>\n",
       "      <td>3.010000</td>\n",
       "      <td>70.2</td>\n",
       "    </tr>\n",
       "    <tr>\n",
       "      <th>Ruviotto beans</th>\n",
       "      <td>62.100000</td>\n",
       "      <td>2.836667</td>\n",
       "      <td>72.9</td>\n",
       "    </tr>\n",
       "    <tr>\n",
       "      <th>Saluggia beans</th>\n",
       "      <td>279.766667</td>\n",
       "      <td>2.656667</td>\n",
       "      <td>71.8</td>\n",
       "    </tr>\n",
       "    <tr>\n",
       "      <th>Stregoni beans</th>\n",
       "      <td>458.633333</td>\n",
       "      <td>2.156667</td>\n",
       "      <td>71.1</td>\n",
       "    </tr>\n",
       "    <tr>\n",
       "      <th>Verdolino beans</th>\n",
       "      <td>83.133333</td>\n",
       "      <td>3.443333</td>\n",
       "      <td>68.8</td>\n",
       "    </tr>\n",
       "  </tbody>\n",
       "</table>\n",
       "</div>"
      ],
      "text/plain": [
       "                        catechin_content       tpc  Ic_50\n",
       "sample                                                   \n",
       "Black beans                    14.833333  3.396667   97.3\n",
       "Black chickpeas               188.166667  1.186667  125.1\n",
       "Black lentils                 246.900000  4.526667   68.2\n",
       "Broad beans                   456.500000  1.980000   68.3\n",
       "Brown beans                    11.400000  1.993333   73.3\n",
       "Brown lentils                 119.466667  1.423333   71.0\n",
       "Colfiorito lentils            415.366667  2.556667   81.6\n",
       "Cramberry beans               614.700000  2.193333   76.0\n",
       "Crimson lentils               402.766667  2.356667   74.0\n",
       "Dehulled eston lentils         86.133333  1.400000  164.5\n",
       "Diavoli beans                 170.433333  7.140000   68.9\n",
       "Eston lentils                 479.400000  2.163333   79.6\n",
       "Kabuli chickpeas               32.433333  0.893333  266.3\n",
       "Laird lentils                 520.866667  2.420000   73.5\n",
       "Pavoni beans                  303.100000  3.850000   75.1\n",
       "Pinto beans                   322.500000  2.016667   81.8\n",
       "Red kidney beans               61.566667  3.010000   70.2\n",
       "Ruviotto beans                 62.100000  2.836667   72.9\n",
       "Saluggia beans                279.766667  2.656667   71.8\n",
       "Stregoni beans                458.633333  2.156667   71.1\n",
       "Verdolino beans                83.133333  3.443333   68.8"
      ]
     },
     "execution_count": 10,
     "metadata": {},
     "output_type": "execute_result"
    }
   ],
   "source": [
    "data_mean = data.groupby('sample').agg('mean')\n",
    "data_mean"
   ]
  },
  {
   "cell_type": "markdown",
   "metadata": {},
   "source": [
    "## Scatter plot of TPC vs IC50"
   ]
  },
  {
   "cell_type": "code",
   "execution_count": 22,
   "metadata": {},
   "outputs": [
    {
     "data": {
      "text/plain": [
       "<matplotlib.axes._subplots.AxesSubplot at 0x7f5289acfca0>"
      ]
     },
     "execution_count": 22,
     "metadata": {},
     "output_type": "execute_result"
    },
    {
     "data": {
      "image/png": "[encoded data removed]",
      "text/plain": [
       "<Figure size 432x288 with 1 Axes>"
      ]
     },
     "metadata": {
      "needs_background": "light"
     },
     "output_type": "display_data"
    }
   ],
   "source": [
    "data_mean.plot.scatter(x='tpc', y='Ic_50')"
   ]
  },
  {
   "cell_type": "markdown",
   "metadata": {},
   "source": [
    "## Pearson Correlation"
   ]
  },
  {
   "cell_type": "code",
   "execution_count": 21,
   "metadata": {},
   "outputs": [
    {
     "data": {
      "text/plain": [
       "(-0.43331247138661916, 0.049732853376380275)"
      ]
     },
     "execution_count": 21,
     "metadata": {},
     "output_type": "execute_result"
    }
   ],
   "source": [
    "stats.pearsonr(data_mean['tpc'], data_mean['Ic_50'])"
   ]
  },
  {
   "cell_type": "markdown",
   "metadata": {},
   "source": [
    "A **negative correlation** wil pearson correlation coefficient (r) value (-0.43) was observed at p < 0.05"
   ]
  },
  {
   "cell_type": "markdown",
   "metadata": {},
   "source": [
    "## Spearman Correlation"
   ]
  },
  {
   "cell_type": "code",
   "execution_count": 14,
   "metadata": {},
   "outputs": [
    {
     "data": {
      "text/plain": [
       "SpearmanrResult(correlation=-0.47792207792207797, pvalue=0.028433024289660918)"
      ]
     },
     "execution_count": 14,
     "metadata": {},
     "output_type": "execute_result"
    }
   ],
   "source": [
    "stats.spearmanr(data_mean['tpc'], data_mean['Ic_50'])"
   ]
  },
  {
   "cell_type": "markdown",
   "metadata": {},
   "source": [
    "## Kendal's Tau "
   ]
  },
  {
   "cell_type": "code",
   "execution_count": 15,
   "metadata": {},
   "outputs": [
    {
     "data": {
      "text/plain": [
       "KendalltauResult(correlation=-0.36190476190476195, pvalue=0.022148713277534284)"
      ]
     },
     "execution_count": 15,
     "metadata": {},
     "output_type": "execute_result"
    }
   ],
   "source": [
    "stats.kendalltau(data_mean['tpc'], data_mean['Ic_50'])"
   ]
  },
  {
   "cell_type": "code",
   "execution_count": null,
   "metadata": {},
   "outputs": [],
   "source": []
  }
 ],
 "metadata": {
  "kernelspec": {
   "display_name": "Python [conda env:root] *",
   "language": "python",
   "name": "conda-root-py"
  },
  "language_info": {
   "codemirror_mode": {
    "name": "ipython",
    "version": 3
   },
   "file_extension": ".py",
   "mimetype": "text/x-python",
   "name": "python",
   "nbconvert_exporter": "python",
   "pygments_lexer": "ipython3",
   "version": "3.8.1"
  }
 },
 "nbformat": 4,
 "nbformat_minor": 4
}
