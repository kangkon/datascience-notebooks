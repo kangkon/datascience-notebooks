{
 "cells": [
  {
   "cell_type": "code",
   "execution_count": 5,
   "metadata": {},
   "outputs": [],
   "source": [
    "#from Bio import AlignIO\n",
    "from Bio import SeqIO"
   ]
  },
  {
   "cell_type": "code",
   "execution_count": 7,
   "metadata": {},
   "outputs": [
    {
     "name": "stdout",
     "output_type": "stream",
     "text": [
      "Actinobacteria-bacterium-strain-PBR-11-(MH718314)-\n",
      "Streptomyces-sp.-GX9-(JF830633)\n",
      "Streptomyces-macrosporeus-strain-1172-(HQ607435)-\n",
      "Actinobacterium-C7-(HM209312)\n",
      "Streptomyces-atrovirens-strain-5-2-(KJ571043)\n",
      "Streptomyces-macrosporeus-strain-1169-(HQ607434)\n",
      "Streptomyces-macrosporeus-strain-1062-(HQ607420)\n",
      "Streptomyces-macrosporeus-strain-1061-(HQ607419)\n",
      "Streptomyces-sp.-strain-4A2-(MK456478)-\n",
      "Streptomyces-albogriseolus-strain-HBUM83454-(EU841557)\n",
      "Streptomyces-sp.-strain-6A-(MK456473)\n",
      "Streptomyces-sp.-MS-1-(JN578482)-\n",
      "Streptomyces-sp.-219815-(HQ992754)-\n",
      "Streptomyces-macrosporeus-strain-1162-(HQ607431)-\n",
      "Streptomyces-macrosporeus-strain-52-(EF063469)-\n",
      "Streptomyces-sp.-3187-(DQ663148)-\n",
      "Streptomyces-macrosporeus-strain:-NBRC-13897-(AB184542)-\n",
      "Streptomyces-macrosporeus-strain-1141-(HQ607426)-\n",
      "Streptomyces-macrosporeus-strain-1027-(HQ607414)-\n",
      "Streptomyces-atrovirens-strain-F-177430-(KY454554)-\n",
      "Streptomyces-sp.-OAct-57-(JX047035)-\n",
      "Streptomyces-macrosporeus-strain-1076-(HQ607422)-\n",
      "Streptomyces-macrosporeus-strain-14312-(EF371436)\n",
      "Streptomyces-sp.-3016-16S-(DQ663178)-\n",
      "Streptomyces-sp.-3459-(DQ663157)-\n",
      "Streptomyces-sp.-OAct-75-(JX144980)-\n",
      "Streptomyces-sp.-85Gan103-(EF063478)\n",
      "Streptomyces-sp.-strain-JJ120-(KX352808)-\n",
      "Streptomyces-sp.-strain-XF-(KU356769)-\n",
      "Streptomyces-sp.-3450-(DQ663155)-\n",
      "Streptomyces-sp.-strain-6A2-(MK456469)-\n",
      "Streptomyces-sp.-strain-PERM5-(KY400015)\n",
      "Streptomyces-macrosporeus-strain-RA-(KJ995820)-\n",
      "Streptomyces-sp.-TY40-6-(AB918671)\n",
      "Streptomyces-sp.-1A01528-(EF012102)\n",
      "Streptomyces-sp.-strain-12K109-(MG770830)\n",
      "Streptomyces-sp.-strain-6K201-(MG770755)-\n",
      "Streptomyces-sp.-strain-3K203-(MG770702)-\n",
      "Streptomyces-sp.-219103-(HQ992738)-\n",
      "Streptomyces-atrovirens-strain-NCL20.1-(MN004815)-\n",
      "Streptomyces-sp.-strain-10K507-(MG770818)-\n",
      "MN577389.1-Bacillus-sp.-strain-SNH_M44\n"
     ]
    }
   ],
   "source": [
    "for record in SeqIO.parse(\"../datasets/bioinfo/similar_PBR11_sh_label.fasta\", \"fasta\"):\n",
    "    print(record.id)"
   ]
  },
  {
   "cell_type": "code",
   "execution_count": null,
   "metadata": {},
   "outputs": [],
   "source": []
  }
 ],
 "metadata": {
  "kernelspec": {
   "display_name": "Python 3",
   "language": "python",
   "name": "python3"
  },
  "language_info": {
   "codemirror_mode": {
    "name": "ipython",
    "version": 3
   },
   "file_extension": ".py",
   "mimetype": "text/x-python",
   "name": "python",
   "nbconvert_exporter": "python",
   "pygments_lexer": "ipython3",
   "version": "3.8.1"
  }
 },
 "nbformat": 4,
 "nbformat_minor": 4
}
